{
 "cells": [
  {
   "cell_type": "code",
   "execution_count": 1,
   "metadata": {},
   "outputs": [],
   "source": [
    "import pandas as pd\n",
    "import numpy as np\n",
    "import matplotlib.pyplot as plt\n",
    "import seaborn as sns"
   ]
  },
  {
   "cell_type": "code",
   "execution_count": 2,
   "metadata": {},
   "outputs": [],
   "source": [
    "df = pd.read_csv(\"bijouterie.txt\")"
   ]
  },
  {
   "cell_type": "code",
   "execution_count": 3,
   "metadata": {},
   "outputs": [
    {
     "data": {
      "text/html": [
       "<div>\n",
       "<style scoped>\n",
       "    .dataframe tbody tr th:only-of-type {\n",
       "        vertical-align: middle;\n",
       "    }\n",
       "\n",
       "    .dataframe tbody tr th {\n",
       "        vertical-align: top;\n",
       "    }\n",
       "\n",
       "    .dataframe thead th {\n",
       "        text-align: right;\n",
       "    }\n",
       "</style>\n",
       "<table border=\"1\" class=\"dataframe\">\n",
       "  <thead>\n",
       "    <tr style=\"text-align: right;\">\n",
       "      <th></th>\n",
       "      <th>ID</th>\n",
       "      <th>carat</th>\n",
       "      <th>cut</th>\n",
       "      <th>color</th>\n",
       "      <th>clarity</th>\n",
       "      <th>depth</th>\n",
       "      <th>table</th>\n",
       "      <th>price</th>\n",
       "      <th>x</th>\n",
       "      <th>y</th>\n",
       "      <th>z</th>\n",
       "    </tr>\n",
       "  </thead>\n",
       "  <tbody>\n",
       "    <tr>\n",
       "      <th>0</th>\n",
       "      <td>1</td>\n",
       "      <td>0.23</td>\n",
       "      <td>Ideal</td>\n",
       "      <td>E</td>\n",
       "      <td>SI2</td>\n",
       "      <td>61.5</td>\n",
       "      <td>55.0</td>\n",
       "      <td>326</td>\n",
       "      <td>3.95</td>\n",
       "      <td>3.98</td>\n",
       "      <td>2.43</td>\n",
       "    </tr>\n",
       "    <tr>\n",
       "      <th>1</th>\n",
       "      <td>2</td>\n",
       "      <td>0.21</td>\n",
       "      <td>Premium</td>\n",
       "      <td>E</td>\n",
       "      <td>SI1</td>\n",
       "      <td>59.8</td>\n",
       "      <td>61.0</td>\n",
       "      <td>326</td>\n",
       "      <td>3.89</td>\n",
       "      <td>3.84</td>\n",
       "      <td>2.31</td>\n",
       "    </tr>\n",
       "    <tr>\n",
       "      <th>2</th>\n",
       "      <td>3</td>\n",
       "      <td>0.23</td>\n",
       "      <td>Good</td>\n",
       "      <td>E</td>\n",
       "      <td>VS1</td>\n",
       "      <td>56.9</td>\n",
       "      <td>65.0</td>\n",
       "      <td>327</td>\n",
       "      <td>4.05</td>\n",
       "      <td>4.07</td>\n",
       "      <td>2.31</td>\n",
       "    </tr>\n",
       "    <tr>\n",
       "      <th>3</th>\n",
       "      <td>4</td>\n",
       "      <td>0.29</td>\n",
       "      <td>Premium</td>\n",
       "      <td>I</td>\n",
       "      <td>VS2</td>\n",
       "      <td>62.4</td>\n",
       "      <td>58.0</td>\n",
       "      <td>334</td>\n",
       "      <td>4.20</td>\n",
       "      <td>4.23</td>\n",
       "      <td>2.63</td>\n",
       "    </tr>\n",
       "    <tr>\n",
       "      <th>4</th>\n",
       "      <td>5</td>\n",
       "      <td>0.31</td>\n",
       "      <td>Good</td>\n",
       "      <td>J</td>\n",
       "      <td>SI2</td>\n",
       "      <td>63.3</td>\n",
       "      <td>58.0</td>\n",
       "      <td>335</td>\n",
       "      <td>4.34</td>\n",
       "      <td>4.35</td>\n",
       "      <td>2.75</td>\n",
       "    </tr>\n",
       "    <tr>\n",
       "      <th>...</th>\n",
       "      <td>...</td>\n",
       "      <td>...</td>\n",
       "      <td>...</td>\n",
       "      <td>...</td>\n",
       "      <td>...</td>\n",
       "      <td>...</td>\n",
       "      <td>...</td>\n",
       "      <td>...</td>\n",
       "      <td>...</td>\n",
       "      <td>...</td>\n",
       "      <td>...</td>\n",
       "    </tr>\n",
       "    <tr>\n",
       "      <th>53935</th>\n",
       "      <td>53936</td>\n",
       "      <td>0.72</td>\n",
       "      <td>Ideal</td>\n",
       "      <td>D</td>\n",
       "      <td>SI1</td>\n",
       "      <td>60.8</td>\n",
       "      <td>57.0</td>\n",
       "      <td>2757</td>\n",
       "      <td>5.75</td>\n",
       "      <td>5.76</td>\n",
       "      <td>3.50</td>\n",
       "    </tr>\n",
       "    <tr>\n",
       "      <th>53936</th>\n",
       "      <td>53937</td>\n",
       "      <td>0.72</td>\n",
       "      <td>Good</td>\n",
       "      <td>D</td>\n",
       "      <td>SI1</td>\n",
       "      <td>63.1</td>\n",
       "      <td>55.0</td>\n",
       "      <td>2757</td>\n",
       "      <td>5.69</td>\n",
       "      <td>5.75</td>\n",
       "      <td>3.61</td>\n",
       "    </tr>\n",
       "    <tr>\n",
       "      <th>53937</th>\n",
       "      <td>53938</td>\n",
       "      <td>0.70</td>\n",
       "      <td>Very Good</td>\n",
       "      <td>D</td>\n",
       "      <td>SI1</td>\n",
       "      <td>62.8</td>\n",
       "      <td>60.0</td>\n",
       "      <td>2757</td>\n",
       "      <td>5.66</td>\n",
       "      <td>5.68</td>\n",
       "      <td>3.56</td>\n",
       "    </tr>\n",
       "    <tr>\n",
       "      <th>53938</th>\n",
       "      <td>53939</td>\n",
       "      <td>0.86</td>\n",
       "      <td>Premium</td>\n",
       "      <td>H</td>\n",
       "      <td>SI2</td>\n",
       "      <td>61.0</td>\n",
       "      <td>58.0</td>\n",
       "      <td>2757</td>\n",
       "      <td>6.15</td>\n",
       "      <td>6.12</td>\n",
       "      <td>3.74</td>\n",
       "    </tr>\n",
       "    <tr>\n",
       "      <th>53939</th>\n",
       "      <td>53940</td>\n",
       "      <td>0.75</td>\n",
       "      <td>Ideal</td>\n",
       "      <td>D</td>\n",
       "      <td>SI2</td>\n",
       "      <td>62.2</td>\n",
       "      <td>55.0</td>\n",
       "      <td>2757</td>\n",
       "      <td>5.83</td>\n",
       "      <td>5.87</td>\n",
       "      <td>3.64</td>\n",
       "    </tr>\n",
       "  </tbody>\n",
       "</table>\n",
       "<p>53940 rows × 11 columns</p>\n",
       "</div>"
      ],
      "text/plain": [
       "          ID  carat        cut color clarity  depth  table  price     x     y  \\\n",
       "0          1   0.23      Ideal     E     SI2   61.5   55.0    326  3.95  3.98   \n",
       "1          2   0.21    Premium     E     SI1   59.8   61.0    326  3.89  3.84   \n",
       "2          3   0.23       Good     E     VS1   56.9   65.0    327  4.05  4.07   \n",
       "3          4   0.29    Premium     I     VS2   62.4   58.0    334  4.20  4.23   \n",
       "4          5   0.31       Good     J     SI2   63.3   58.0    335  4.34  4.35   \n",
       "...      ...    ...        ...   ...     ...    ...    ...    ...   ...   ...   \n",
       "53935  53936   0.72      Ideal     D     SI1   60.8   57.0   2757  5.75  5.76   \n",
       "53936  53937   0.72       Good     D     SI1   63.1   55.0   2757  5.69  5.75   \n",
       "53937  53938   0.70  Very Good     D     SI1   62.8   60.0   2757  5.66  5.68   \n",
       "53938  53939   0.86    Premium     H     SI2   61.0   58.0   2757  6.15  6.12   \n",
       "53939  53940   0.75      Ideal     D     SI2   62.2   55.0   2757  5.83  5.87   \n",
       "\n",
       "          z  \n",
       "0      2.43  \n",
       "1      2.31  \n",
       "2      2.31  \n",
       "3      2.63  \n",
       "4      2.75  \n",
       "...     ...  \n",
       "53935  3.50  \n",
       "53936  3.61  \n",
       "53937  3.56  \n",
       "53938  3.74  \n",
       "53939  3.64  \n",
       "\n",
       "[53940 rows x 11 columns]"
      ]
     },
     "execution_count": 3,
     "metadata": {},
     "output_type": "execute_result"
    }
   ],
   "source": [
    "df"
   ]
  },
  {
   "cell_type": "code",
   "execution_count": 4,
   "metadata": {},
   "outputs": [
    {
     "data": {
      "text/plain": [
       "(53940, 11)"
      ]
     },
     "execution_count": 4,
     "metadata": {},
     "output_type": "execute_result"
    }
   ],
   "source": [
    "df.shape"
   ]
  },
  {
   "cell_type": "code",
   "execution_count": 5,
   "metadata": {},
   "outputs": [
    {
     "data": {
      "text/plain": [
       "ID         0\n",
       "carat      0\n",
       "cut        0\n",
       "color      0\n",
       "clarity    0\n",
       "depth      0\n",
       "table      0\n",
       "price      0\n",
       "x          0\n",
       "y          0\n",
       "z          0\n",
       "dtype: int64"
      ]
     },
     "execution_count": 5,
     "metadata": {},
     "output_type": "execute_result"
    }
   ],
   "source": [
    "df.isnull().sum()"
   ]
  },
  {
   "cell_type": "code",
   "execution_count": 6,
   "metadata": {},
   "outputs": [
    {
     "data": {
      "text/plain": [
       "array(['SI2', 'SI1', 'VS1', 'VS2', 'VVS2', 'VVS1', 'I1', 'IF'],\n",
       "      dtype=object)"
      ]
     },
     "execution_count": 6,
     "metadata": {},
     "output_type": "execute_result"
    }
   ],
   "source": [
    "df.clarity.unique()"
   ]
  },
  {
   "cell_type": "code",
   "execution_count": 7,
   "metadata": {},
   "outputs": [
    {
     "data": {
      "text/plain": [
       "array(['Ideal', 'Premium', 'Good', 'Very Good', 'Fair'], dtype=object)"
      ]
     },
     "execution_count": 7,
     "metadata": {},
     "output_type": "execute_result"
    }
   ],
   "source": [
    "df.cut.unique()"
   ]
  },
  {
   "cell_type": "code",
   "execution_count": 8,
   "metadata": {},
   "outputs": [
    {
     "data": {
      "text/plain": [
       "array(['E', 'I', 'J', 'H', 'F', 'G', 'D'], dtype=object)"
      ]
     },
     "execution_count": 8,
     "metadata": {},
     "output_type": "execute_result"
    }
   ],
   "source": [
    "df.color.unique()"
   ]
  },
  {
   "cell_type": "code",
   "execution_count": 9,
   "metadata": {},
   "outputs": [
    {
     "data": {
      "text/plain": [
       "<matplotlib.axes._subplots.AxesSubplot at 0x2355de622c8>"
      ]
     },
     "execution_count": 9,
     "metadata": {},
     "output_type": "execute_result"
    },
    {
     "data": {
      "image/png": "[encoded data removed]",
      "text/plain": [
       "<Figure size 432x288 with 1 Axes>"
      ]
     },
     "metadata": {
      "needs_background": "light"
     },
     "output_type": "display_data"
    }
   ],
   "source": [
    "sns.regplot(x=\"carat\",y=\"price\", data=df)\n"
   ]
  },
  {
   "cell_type": "code",
   "execution_count": 10,
   "metadata": {},
   "outputs": [
    {
     "data": {
      "text/plain": [
       "<seaborn.axisgrid.FacetGrid at 0x23563df0408>"
      ]
     },
     "execution_count": 10,
     "metadata": {},
     "output_type": "execute_result"
    },
    {
     "data": {
      "image/png": "[encoded data removed]",
      "text/plain": [
       "<Figure size 1800x360 with 5 Axes>"
      ]
     },
     "metadata": {
      "needs_background": "light"
     },
     "output_type": "display_data"
    }
   ],
   "source": [
    "sns.lmplot(x=\"carat\",y=\"price\",col='cut', data=df)\n"
   ]
  },
  {
   "cell_type": "code",
   "execution_count": 11,
   "metadata": {},
   "outputs": [
    {
     "data": {
      "text/plain": [
       "<matplotlib.axes._subplots.AxesSubplot at 0x235653ac348>"
      ]
     },
     "execution_count": 11,
     "metadata": {},
     "output_type": "execute_result"
    },
    {
     "data": {
      "image/png": "[encoded data removed]",
      "text/plain": [
       "<Figure size 432x288 with 1 Axes>"
      ]
     },
     "metadata": {
      "needs_background": "light"
     },
     "output_type": "display_data"
    }
   ],
   "source": [
    "sns.distplot(df[\"price\"],kde = False,bins=7)\n"
   ]
  },
  {
   "cell_type": "code",
   "execution_count": 12,
   "metadata": {},
   "outputs": [
    {
     "data": {
      "text/plain": [
       "<matplotlib.axes._subplots.AxesSubplot at 0x23565713288>"
      ]
     },
     "execution_count": 12,
     "metadata": {},
     "output_type": "execute_result"
    },
    {
     "data": {
      "image/png": "[encoded data removed]",
      "text/plain": [
       "<Figure size 432x288 with 1 Axes>"
      ]
     },
     "metadata": {
      "needs_background": "light"
     },
     "output_type": "display_data"
    }
   ],
   "source": [
    "sns.distplot(df[\"carat\"], kde=False,bins=8)\n"
   ]
  },
  {
   "cell_type": "code",
   "execution_count": 13,
   "metadata": {},
   "outputs": [
    {
     "data": {
      "text/plain": [
       "<matplotlib.axes._subplots.AxesSubplot at 0x2356578a108>"
      ]
     },
     "execution_count": 13,
     "metadata": {},
     "output_type": "execute_result"
    },
    {
     "data": {
      "image/png": "[encoded data removed]",
      "text/plain": [
       "<Figure size 432x288 with 1 Axes>"
      ]
     },
     "metadata": {
      "needs_background": "light"
     },
     "output_type": "display_data"
    }
   ],
   "source": [
    "sns.distplot(df[\"depth\"],kde=False)\n"
   ]
  },
  {
   "cell_type": "code",
   "execution_count": 14,
   "metadata": {},
   "outputs": [
    {
     "data": {
      "text/plain": [
       "<matplotlib.axes._subplots.AxesSubplot at 0x2356588de88>"
      ]
     },
     "execution_count": 14,
     "metadata": {},
     "output_type": "execute_result"
    },
    {
     "data": {
      "image/png": "[encoded data removed]",
      "text/plain": [
       "<Figure size 432x288 with 1 Axes>"
      ]
     },
     "metadata": {
      "needs_background": "light"
     },
     "output_type": "display_data"
    }
   ],
   "source": [
    "sns.distplot(df[\"table\"],kde=False)\n"
   ]
  },
  {
   "cell_type": "code",
   "execution_count": 15,
   "metadata": {},
   "outputs": [
    {
     "data": {
      "text/plain": [
       "<matplotlib.axes._subplots.AxesSubplot at 0x2356588df08>"
      ]
     },
     "execution_count": 15,
     "metadata": {},
     "output_type": "execute_result"
    },
    {
     "data": {
      "image/png": "[encoded data removed]",
      "text/plain": [
       "<Figure size 432x288 with 1 Axes>"
      ]
     },
     "metadata": {
      "needs_background": "light"
     },
     "output_type": "display_data"
    }
   ],
   "source": [
    "sns.distplot(df[\"x\"],kde=False)\n"
   ]
  },
  {
   "cell_type": "code",
   "execution_count": 16,
   "metadata": {},
   "outputs": [
    {
     "data": {
      "text/plain": [
       "count    53940.000000\n",
       "mean      3932.799722\n",
       "std       3989.439738\n",
       "min        326.000000\n",
       "25%        950.000000\n",
       "50%       2401.000000\n",
       "75%       5324.250000\n",
       "max      18823.000000\n",
       "Name: price, dtype: float64"
      ]
     },
     "execution_count": 16,
     "metadata": {},
     "output_type": "execute_result"
    }
   ],
   "source": [
    "tabl=df['price'].describe()\n",
    "tabl"
   ]
  },
  {
   "cell_type": "code",
   "execution_count": 17,
   "metadata": {},
   "outputs": [
    {
     "data": {
      "text/plain": [
       "count    53940.000000\n",
       "mean         5.731157\n",
       "std          1.121761\n",
       "min          0.000000\n",
       "25%          4.710000\n",
       "50%          5.700000\n",
       "75%          6.540000\n",
       "max         10.740000\n",
       "Name: x, dtype: float64"
      ]
     },
     "execution_count": 17,
     "metadata": {},
     "output_type": "execute_result"
    }
   ],
   "source": [
    "x=df['x'].describe()\n",
    "x"
   ]
  },
  {
   "cell_type": "code",
   "execution_count": 18,
   "metadata": {},
   "outputs": [
    {
     "data": {
      "text/html": [
       "<div>\n",
       "<style scoped>\n",
       "    .dataframe tbody tr th:only-of-type {\n",
       "        vertical-align: middle;\n",
       "    }\n",
       "\n",
       "    .dataframe tbody tr th {\n",
       "        vertical-align: top;\n",
       "    }\n",
       "\n",
       "    .dataframe thead th {\n",
       "        text-align: right;\n",
       "    }\n",
       "</style>\n",
       "<table border=\"1\" class=\"dataframe\">\n",
       "  <thead>\n",
       "    <tr style=\"text-align: right;\">\n",
       "      <th></th>\n",
       "      <th>ID</th>\n",
       "      <th>carat</th>\n",
       "      <th>depth</th>\n",
       "      <th>table</th>\n",
       "      <th>price</th>\n",
       "      <th>x</th>\n",
       "      <th>y</th>\n",
       "      <th>z</th>\n",
       "    </tr>\n",
       "  </thead>\n",
       "  <tbody>\n",
       "    <tr>\n",
       "      <th>count</th>\n",
       "      <td>53940.000000</td>\n",
       "      <td>53940.000000</td>\n",
       "      <td>53940.000000</td>\n",
       "      <td>53940.000000</td>\n",
       "      <td>53940.000000</td>\n",
       "      <td>53940.000000</td>\n",
       "      <td>53940.000000</td>\n",
       "      <td>53940.000000</td>\n",
       "    </tr>\n",
       "    <tr>\n",
       "      <th>mean</th>\n",
       "      <td>26970.500000</td>\n",
       "      <td>0.797940</td>\n",
       "      <td>61.749405</td>\n",
       "      <td>57.457184</td>\n",
       "      <td>3932.799722</td>\n",
       "      <td>5.731157</td>\n",
       "      <td>5.734526</td>\n",
       "      <td>3.538734</td>\n",
       "    </tr>\n",
       "    <tr>\n",
       "      <th>std</th>\n",
       "      <td>15571.281097</td>\n",
       "      <td>0.474011</td>\n",
       "      <td>1.432621</td>\n",
       "      <td>2.234491</td>\n",
       "      <td>3989.439738</td>\n",
       "      <td>1.121761</td>\n",
       "      <td>1.142135</td>\n",
       "      <td>0.705699</td>\n",
       "    </tr>\n",
       "    <tr>\n",
       "      <th>min</th>\n",
       "      <td>1.000000</td>\n",
       "      <td>0.200000</td>\n",
       "      <td>43.000000</td>\n",
       "      <td>43.000000</td>\n",
       "      <td>326.000000</td>\n",
       "      <td>0.000000</td>\n",
       "      <td>0.000000</td>\n",
       "      <td>0.000000</td>\n",
       "    </tr>\n",
       "    <tr>\n",
       "      <th>25%</th>\n",
       "      <td>13485.750000</td>\n",
       "      <td>0.400000</td>\n",
       "      <td>61.000000</td>\n",
       "      <td>56.000000</td>\n",
       "      <td>950.000000</td>\n",
       "      <td>4.710000</td>\n",
       "      <td>4.720000</td>\n",
       "      <td>2.910000</td>\n",
       "    </tr>\n",
       "    <tr>\n",
       "      <th>50%</th>\n",
       "      <td>26970.500000</td>\n",
       "      <td>0.700000</td>\n",
       "      <td>61.800000</td>\n",
       "      <td>57.000000</td>\n",
       "      <td>2401.000000</td>\n",
       "      <td>5.700000</td>\n",
       "      <td>5.710000</td>\n",
       "      <td>3.530000</td>\n",
       "    </tr>\n",
       "    <tr>\n",
       "      <th>75%</th>\n",
       "      <td>40455.250000</td>\n",
       "      <td>1.040000</td>\n",
       "      <td>62.500000</td>\n",
       "      <td>59.000000</td>\n",
       "      <td>5324.250000</td>\n",
       "      <td>6.540000</td>\n",
       "      <td>6.540000</td>\n",
       "      <td>4.040000</td>\n",
       "    </tr>\n",
       "    <tr>\n",
       "      <th>max</th>\n",
       "      <td>53940.000000</td>\n",
       "      <td>5.010000</td>\n",
       "      <td>79.000000</td>\n",
       "      <td>95.000000</td>\n",
       "      <td>18823.000000</td>\n",
       "      <td>10.740000</td>\n",
       "      <td>58.900000</td>\n",
       "      <td>31.800000</td>\n",
       "    </tr>\n",
       "  </tbody>\n",
       "</table>\n",
       "</div>"
      ],
      "text/plain": [
       "                 ID         carat         depth         table         price  \\\n",
       "count  53940.000000  53940.000000  53940.000000  53940.000000  53940.000000   \n",
       "mean   26970.500000      0.797940     61.749405     57.457184   3932.799722   \n",
       "std    15571.281097      0.474011      1.432621      2.234491   3989.439738   \n",
       "min        1.000000      0.200000     43.000000     43.000000    326.000000   \n",
       "25%    13485.750000      0.400000     61.000000     56.000000    950.000000   \n",
       "50%    26970.500000      0.700000     61.800000     57.000000   2401.000000   \n",
       "75%    40455.250000      1.040000     62.500000     59.000000   5324.250000   \n",
       "max    53940.000000      5.010000     79.000000     95.000000  18823.000000   \n",
       "\n",
       "                  x             y             z  \n",
       "count  53940.000000  53940.000000  53940.000000  \n",
       "mean       5.731157      5.734526      3.538734  \n",
       "std        1.121761      1.142135      0.705699  \n",
       "min        0.000000      0.000000      0.000000  \n",
       "25%        4.710000      4.720000      2.910000  \n",
       "50%        5.700000      5.710000      3.530000  \n",
       "75%        6.540000      6.540000      4.040000  \n",
       "max       10.740000     58.900000     31.800000  "
      ]
     },
     "execution_count": 18,
     "metadata": {},
     "output_type": "execute_result"
    }
   ],
   "source": [
    "df.describe()"
   ]
  },
  {
   "cell_type": "code",
   "execution_count": 19,
   "metadata": {},
   "outputs": [
    {
     "data": {
      "image/png": "[encoded data removed]",
      "text/plain": [
       "<Figure size 432x288 with 1 Axes>"
      ]
     },
     "metadata": {},
     "output_type": "display_data"
    }
   ],
   "source": [
    "x=df['color'].value_counts().plot(kind='pie', autopct='%1.1f%%', shadow='True')"
   ]
  },
  {
   "cell_type": "code",
   "execution_count": 20,
   "metadata": {},
   "outputs": [
    {
     "data": {
      "image/png": "[encoded data removed]",
      "text/plain": [
       "<Figure size 432x288 with 1 Axes>"
      ]
     },
     "metadata": {
      "needs_background": "light"
     },
     "output_type": "display_data"
    }
   ],
   "source": [
    "x=df['cut'].value_counts().plot(kind='bar')"
   ]
  },
  {
   "cell_type": "code",
   "execution_count": 21,
   "metadata": {},
   "outputs": [
    {
     "data": {
      "image/png": "[encoded data removed]",
      "text/plain": [
       "<Figure size 432x288 with 1 Axes>"
      ]
     },
     "metadata": {
      "needs_background": "light"
     },
     "output_type": "display_data"
    }
   ],
   "source": [
    "x=df['clarity'].value_counts().plot(kind='bar')"
   ]
  },
  {
   "cell_type": "code",
   "execution_count": 22,
   "metadata": {},
   "outputs": [],
   "source": [
    "arr=df.values"
   ]
  },
  {
   "cell_type": "code",
   "execution_count": 23,
   "metadata": {},
   "outputs": [],
   "source": [
    "x=arr[:,1]\n",
    "y=arr[:,7]\n",
    "z=arr[:,8]"
   ]
  },
  {
   "cell_type": "code",
   "execution_count": 24,
   "metadata": {},
   "outputs": [
    {
     "data": {
      "text/plain": [
       "<matplotlib.collections.PathCollection at 0x23567e25c48>"
      ]
     },
     "execution_count": 24,
     "metadata": {},
     "output_type": "execute_result"
    },
    {
     "data": {
      "image/png": "[encoded data removed]",
      "text/plain": [
       "<Figure size 432x288 with 1 Axes>"
      ]
     },
     "metadata": {
      "needs_background": "light"
     },
     "output_type": "display_data"
    }
   ],
   "source": [
    "plt.scatter(x,y,c='green')\n",
    "plt.scatter(z,y,c='yellow')"
   ]
  },
  {
   "cell_type": "code",
   "execution_count": 25,
   "metadata": {},
   "outputs": [
    {
     "data": {
      "image/png": "[encoded data removed]",
      "text/plain": [
       "<Figure size 432x288 with 1 Axes>"
      ]
     },
     "metadata": {
      "needs_background": "light"
     },
     "output_type": "display_data"
    }
   ],
   "source": [
    "boxplot = df.boxplot(column=['depth', 'price'])"
   ]
  },
  {
   "cell_type": "code",
   "execution_count": 26,
   "metadata": {},
   "outputs": [
    {
     "data": {
      "text/plain": [
       "<matplotlib.axes._subplots.AxesSubplot at 0x23567ee4488>"
      ]
     },
     "execution_count": 26,
     "metadata": {},
     "output_type": "execute_result"
    },
    {
     "data": {
      "image/png": "[encoded data removed]",
      "text/plain": [
       "<Figure size 432x288 with 1 Axes>"
      ]
     },
     "metadata": {
      "needs_background": "light"
     },
     "output_type": "display_data"
    }
   ],
   "source": [
    "df.boxplot(by ='cut', column =['price'], grid = False)"
   ]
  },
  {
   "cell_type": "code",
   "execution_count": 27,
   "metadata": {},
   "outputs": [
    {
     "data": {
      "image/png": "[encoded data removed]",
      "text/plain": [
       "<Figure size 720x504 with 1 Axes>"
      ]
     },
     "metadata": {
      "needs_background": "light"
     },
     "output_type": "display_data"
    }
   ],
   "source": [
    "fig = plt.figure(figsize =(10, 7))\n",
    "plt.title('BOXPLOT de carat')\n",
    "plt.boxplot(df.carat)\n",
    "plt.show()"
   ]
  },
  {
   "cell_type": "code",
   "execution_count": 28,
   "metadata": {},
   "outputs": [
    {
     "data": {
      "text/plain": [
       "count     53940\n",
       "unique        5\n",
       "top       Ideal\n",
       "freq      21551\n",
       "Name: cut, dtype: object"
      ]
     },
     "execution_count": 28,
     "metadata": {},
     "output_type": "execute_result"
    }
   ],
   "source": [
    "df['cut'].describe()"
   ]
  },
  {
   "cell_type": "code",
   "execution_count": 29,
   "metadata": {},
   "outputs": [
    {
     "data": {
      "text/plain": [
       "count    53940.000000\n",
       "mean        61.749405\n",
       "std          1.432621\n",
       "min         43.000000\n",
       "25%         61.000000\n",
       "50%         61.800000\n",
       "75%         62.500000\n",
       "max         79.000000\n",
       "Name: depth, dtype: float64"
      ]
     },
     "execution_count": 29,
     "metadata": {},
     "output_type": "execute_result"
    }
   ],
   "source": [
    "df['depth'].describe()"
   ]
  },
  {
   "cell_type": "code",
   "execution_count": 30,
   "metadata": {},
   "outputs": [
    {
     "data": {
      "text/plain": [
       "<matplotlib.axes._subplots.AxesSubplot at 0x2356801f348>"
      ]
     },
     "execution_count": 30,
     "metadata": {},
     "output_type": "execute_result"
    },
    {
     "data": {
      "image/png": "[encoded data removed]",
      "text/plain": [
       "<Figure size 432x288 with 1 Axes>"
      ]
     },
     "metadata": {
      "needs_background": "light"
     },
     "output_type": "display_data"
    }
   ],
   "source": [
    "sns.boxplot(y=\"table\",data=df)\n"
   ]
  },
  {
   "cell_type": "code",
   "execution_count": 31,
   "metadata": {},
   "outputs": [
    {
     "data": {
      "text/plain": [
       "<matplotlib.axes._subplots.AxesSubplot at 0x23568072cc8>"
      ]
     },
     "execution_count": 31,
     "metadata": {},
     "output_type": "execute_result"
    },
    {
     "data": {
      "image/png": "[encoded data removed]",
      "text/plain": [
       "<Figure size 432x288 with 1 Axes>"
      ]
     },
     "metadata": {
      "needs_background": "light"
     },
     "output_type": "display_data"
    }
   ],
   "source": [
    "sns.boxplot(y=\"price\",data=df)"
   ]
  },
  {
   "cell_type": "code",
   "execution_count": 32,
   "metadata": {},
   "outputs": [
    {
     "data": {
      "text/plain": [
       "<seaborn.axisgrid.FacetGrid at 0x235680ef748>"
      ]
     },
     "execution_count": 32,
     "metadata": {},
     "output_type": "execute_result"
    },
    {
     "data": {
      "image/png": "[encoded data removed]",
      "text/plain": [
       "<Figure size 403.75x360 with 1 Axes>"
      ]
     },
     "metadata": {
      "needs_background": "light"
     },
     "output_type": "display_data"
    }
   ],
   "source": [
    "sns.lmplot(x=\"carat\",y=\"price\",hue='color', data=df)"
   ]
  },
  {
   "cell_type": "code",
   "execution_count": 33,
   "metadata": {},
   "outputs": [
    {
     "data": {
      "text/plain": [
       "<matplotlib.axes._subplots.AxesSubplot at 0x235681f1ac8>"
      ]
     },
     "execution_count": 33,
     "metadata": {},
     "output_type": "execute_result"
    },
    {
     "data": {
      "image/png": "[encoded data removed]",
      "text/plain": [
       "<Figure size 432x288 with 1 Axes>"
      ]
     },
     "metadata": {
      "needs_background": "light"
     },
     "output_type": "display_data"
    }
   ],
   "source": [
    "sns.regplot(x=\"x\",y=\"y\", data=df)\n"
   ]
  },
  {
   "cell_type": "code",
   "execution_count": 34,
   "metadata": {},
   "outputs": [
    {
     "data": {
      "text/plain": [
       "<matplotlib.axes._subplots.AxesSubplot at 0x23565b78208>"
      ]
     },
     "execution_count": 34,
     "metadata": {},
     "output_type": "execute_result"
    },
    {
     "data": {
      "image/png": "[encoded data removed]",
      "text/plain": [
       "<Figure size 432x288 with 1 Axes>"
      ]
     },
     "metadata": {
      "needs_background": "light"
     },
     "output_type": "display_data"
    }
   ],
   "source": [
    "sns.regplot(x=\"x\",y=\"z\", data=df)"
   ]
  },
  {
   "cell_type": "code",
   "execution_count": 35,
   "metadata": {},
   "outputs": [
    {
     "data": {
      "text/plain": [
       "<matplotlib.axes._subplots.AxesSubplot at 0x23565b9f0c8>"
      ]
     },
     "execution_count": 35,
     "metadata": {},
     "output_type": "execute_result"
    },
    {
     "data": {
      "image/png": "[encoded data removed]",
      "text/plain": [
       "<Figure size 432x288 with 1 Axes>"
      ]
     },
     "metadata": {
      "needs_background": "light"
     },
     "output_type": "display_data"
    }
   ],
   "source": [
    "sns.regplot(x=\"y\",y=\"z\", data=df)"
   ]
  },
  {
   "cell_type": "code",
   "execution_count": 36,
   "metadata": {},
   "outputs": [
    {
     "data": {
      "text/plain": [
       "<seaborn.axisgrid.FacetGrid at 0x23565b13d88>"
      ]
     },
     "execution_count": 36,
     "metadata": {},
     "output_type": "execute_result"
    },
    {
     "data": {
      "image/png": "[encoded data removed]",
      "text/plain": [
       "<Figure size 422.375x360 with 1 Axes>"
      ]
     },
     "metadata": {
      "needs_background": "light"
     },
     "output_type": "display_data"
    }
   ],
   "source": [
    "sns.lmplot(x=\"carat\",y=\"price\",hue='clarity', data=df)"
   ]
  },
  {
   "cell_type": "code",
   "execution_count": 37,
   "metadata": {},
   "outputs": [
    {
     "data": {
      "text/plain": [
       "<seaborn.axisgrid.FacetGrid at 0x23569231b08>"
      ]
     },
     "execution_count": 37,
     "metadata": {},
     "output_type": "execute_result"
    },
    {
     "data": {
      "image/png": "[encoded data removed]",
      "text/plain": [
       "<Figure size 360x360 with 1 Axes>"
      ]
     },
     "metadata": {
      "needs_background": "light"
     },
     "output_type": "display_data"
    }
   ],
   "source": [
    "sns.catplot(x=\"depth\",y=\"cut\", data=df)"
   ]
  },
  {
   "cell_type": "code",
   "execution_count": 38,
   "metadata": {},
   "outputs": [
    {
     "data": {
      "text/plain": [
       "<seaborn.axisgrid.FacetGrid at 0x23565b30b48>"
      ]
     },
     "execution_count": 38,
     "metadata": {},
     "output_type": "execute_result"
    },
    {
     "data": {
      "image/png": "[encoded data removed]",
      "text/plain": [
       "<Figure size 360x360 with 1 Axes>"
      ]
     },
     "metadata": {
      "needs_background": "light"
     },
     "output_type": "display_data"
    }
   ],
   "source": [
    "sns.lmplot(x=\"x\",y=\"table\", data=df)"
   ]
  },
  {
   "cell_type": "code",
   "execution_count": 39,
   "metadata": {},
   "outputs": [
    {
     "data": {
      "text/plain": [
       "<seaborn.axisgrid.FacetGrid at 0x2356929a648>"
      ]
     },
     "execution_count": 39,
     "metadata": {},
     "output_type": "execute_result"
    },
    {
     "data": {
      "image/png": "[encoded data removed]",
      "text/plain": [
       "<Figure size 360x360 with 1 Axes>"
      ]
     },
     "metadata": {
      "needs_background": "light"
     },
     "output_type": "display_data"
    }
   ],
   "source": [
    "sns.catplot(x=\"x\",y=\"cut\",data=df)"
   ]
  },
  {
   "cell_type": "code",
   "execution_count": 40,
   "metadata": {},
   "outputs": [
    {
     "data": {
      "text/plain": [
       "<matplotlib.axes._subplots.AxesSubplot at 0x2356a4d2908>"
      ]
     },
     "execution_count": 40,
     "metadata": {},
     "output_type": "execute_result"
    },
    {
     "data": {
      "image/png": "[encoded data removed]",
      "text/plain": [
       "<Figure size 432x288 with 1 Axes>"
      ]
     },
     "metadata": {
      "needs_background": "light"
     },
     "output_type": "display_data"
    }
   ],
   "source": [
    "sns.distplot(df[\"x\"],kde = False)"
   ]
  },
  {
   "cell_type": "code",
   "execution_count": 41,
   "metadata": {},
   "outputs": [
    {
     "data": {
      "text/plain": [
       "count    53940.000000\n",
       "mean         5.731157\n",
       "std          1.121761\n",
       "min          0.000000\n",
       "25%          4.710000\n",
       "50%          5.700000\n",
       "75%          6.540000\n",
       "max         10.740000\n",
       "Name: x, dtype: float64"
      ]
     },
     "execution_count": 41,
     "metadata": {},
     "output_type": "execute_result"
    }
   ],
   "source": [
    "df['x'].describe()"
   ]
  },
  {
   "cell_type": "code",
   "execution_count": 42,
   "metadata": {},
   "outputs": [
    {
     "data": {
      "text/html": [
       "<div>\n",
       "<style scoped>\n",
       "    .dataframe tbody tr th:only-of-type {\n",
       "        vertical-align: middle;\n",
       "    }\n",
       "\n",
       "    .dataframe tbody tr th {\n",
       "        vertical-align: top;\n",
       "    }\n",
       "\n",
       "    .dataframe thead th {\n",
       "        text-align: right;\n",
       "    }\n",
       "</style>\n",
       "<table border=\"1\" class=\"dataframe\">\n",
       "  <thead>\n",
       "    <tr style=\"text-align: right;\">\n",
       "      <th></th>\n",
       "      <th>D</th>\n",
       "      <th>E</th>\n",
       "      <th>F</th>\n",
       "      <th>G</th>\n",
       "      <th>H</th>\n",
       "      <th>I</th>\n",
       "      <th>J</th>\n",
       "    </tr>\n",
       "  </thead>\n",
       "  <tbody>\n",
       "    <tr>\n",
       "      <th>0</th>\n",
       "      <td>0</td>\n",
       "      <td>1</td>\n",
       "      <td>0</td>\n",
       "      <td>0</td>\n",
       "      <td>0</td>\n",
       "      <td>0</td>\n",
       "      <td>0</td>\n",
       "    </tr>\n",
       "    <tr>\n",
       "      <th>1</th>\n",
       "      <td>0</td>\n",
       "      <td>1</td>\n",
       "      <td>0</td>\n",
       "      <td>0</td>\n",
       "      <td>0</td>\n",
       "      <td>0</td>\n",
       "      <td>0</td>\n",
       "    </tr>\n",
       "    <tr>\n",
       "      <th>2</th>\n",
       "      <td>0</td>\n",
       "      <td>1</td>\n",
       "      <td>0</td>\n",
       "      <td>0</td>\n",
       "      <td>0</td>\n",
       "      <td>0</td>\n",
       "      <td>0</td>\n",
       "    </tr>\n",
       "    <tr>\n",
       "      <th>3</th>\n",
       "      <td>0</td>\n",
       "      <td>0</td>\n",
       "      <td>0</td>\n",
       "      <td>0</td>\n",
       "      <td>0</td>\n",
       "      <td>1</td>\n",
       "      <td>0</td>\n",
       "    </tr>\n",
       "    <tr>\n",
       "      <th>4</th>\n",
       "      <td>0</td>\n",
       "      <td>0</td>\n",
       "      <td>0</td>\n",
       "      <td>0</td>\n",
       "      <td>0</td>\n",
       "      <td>0</td>\n",
       "      <td>1</td>\n",
       "    </tr>\n",
       "    <tr>\n",
       "      <th>...</th>\n",
       "      <td>...</td>\n",
       "      <td>...</td>\n",
       "      <td>...</td>\n",
       "      <td>...</td>\n",
       "      <td>...</td>\n",
       "      <td>...</td>\n",
       "      <td>...</td>\n",
       "    </tr>\n",
       "    <tr>\n",
       "      <th>53935</th>\n",
       "      <td>1</td>\n",
       "      <td>0</td>\n",
       "      <td>0</td>\n",
       "      <td>0</td>\n",
       "      <td>0</td>\n",
       "      <td>0</td>\n",
       "      <td>0</td>\n",
       "    </tr>\n",
       "    <tr>\n",
       "      <th>53936</th>\n",
       "      <td>1</td>\n",
       "      <td>0</td>\n",
       "      <td>0</td>\n",
       "      <td>0</td>\n",
       "      <td>0</td>\n",
       "      <td>0</td>\n",
       "      <td>0</td>\n",
       "    </tr>\n",
       "    <tr>\n",
       "      <th>53937</th>\n",
       "      <td>1</td>\n",
       "      <td>0</td>\n",
       "      <td>0</td>\n",
       "      <td>0</td>\n",
       "      <td>0</td>\n",
       "      <td>0</td>\n",
       "      <td>0</td>\n",
       "    </tr>\n",
       "    <tr>\n",
       "      <th>53938</th>\n",
       "      <td>0</td>\n",
       "      <td>0</td>\n",
       "      <td>0</td>\n",
       "      <td>0</td>\n",
       "      <td>1</td>\n",
       "      <td>0</td>\n",
       "      <td>0</td>\n",
       "    </tr>\n",
       "    <tr>\n",
       "      <th>53939</th>\n",
       "      <td>1</td>\n",
       "      <td>0</td>\n",
       "      <td>0</td>\n",
       "      <td>0</td>\n",
       "      <td>0</td>\n",
       "      <td>0</td>\n",
       "      <td>0</td>\n",
       "    </tr>\n",
       "  </tbody>\n",
       "</table>\n",
       "<p>53940 rows × 7 columns</p>\n",
       "</div>"
      ],
      "text/plain": [
       "       D  E  F  G  H  I  J\n",
       "0      0  1  0  0  0  0  0\n",
       "1      0  1  0  0  0  0  0\n",
       "2      0  1  0  0  0  0  0\n",
       "3      0  0  0  0  0  1  0\n",
       "4      0  0  0  0  0  0  1\n",
       "...   .. .. .. .. .. .. ..\n",
       "53935  1  0  0  0  0  0  0\n",
       "53936  1  0  0  0  0  0  0\n",
       "53937  1  0  0  0  0  0  0\n",
       "53938  0  0  0  0  1  0  0\n",
       "53939  1  0  0  0  0  0  0\n",
       "\n",
       "[53940 rows x 7 columns]"
      ]
     },
     "execution_count": 42,
     "metadata": {},
     "output_type": "execute_result"
    }
   ],
   "source": [
    "df_color=pd.get_dummies(df[\"color\"])\n",
    "df_color"
   ]
  },
  {
   "cell_type": "code",
   "execution_count": 43,
   "metadata": {},
   "outputs": [
    {
     "data": {
      "text/html": [
       "<div>\n",
       "<style scoped>\n",
       "    .dataframe tbody tr th:only-of-type {\n",
       "        vertical-align: middle;\n",
       "    }\n",
       "\n",
       "    .dataframe tbody tr th {\n",
       "        vertical-align: top;\n",
       "    }\n",
       "\n",
       "    .dataframe thead th {\n",
       "        text-align: right;\n",
       "    }\n",
       "</style>\n",
       "<table border=\"1\" class=\"dataframe\">\n",
       "  <thead>\n",
       "    <tr style=\"text-align: right;\">\n",
       "      <th></th>\n",
       "      <th>Fair</th>\n",
       "      <th>Good</th>\n",
       "      <th>Ideal</th>\n",
       "      <th>Premium</th>\n",
       "      <th>Very Good</th>\n",
       "    </tr>\n",
       "  </thead>\n",
       "  <tbody>\n",
       "    <tr>\n",
       "      <th>0</th>\n",
       "      <td>0</td>\n",
       "      <td>0</td>\n",
       "      <td>1</td>\n",
       "      <td>0</td>\n",
       "      <td>0</td>\n",
       "    </tr>\n",
       "    <tr>\n",
       "      <th>1</th>\n",
       "      <td>0</td>\n",
       "      <td>0</td>\n",
       "      <td>0</td>\n",
       "      <td>1</td>\n",
       "      <td>0</td>\n",
       "    </tr>\n",
       "    <tr>\n",
       "      <th>2</th>\n",
       "      <td>0</td>\n",
       "      <td>1</td>\n",
       "      <td>0</td>\n",
       "      <td>0</td>\n",
       "      <td>0</td>\n",
       "    </tr>\n",
       "    <tr>\n",
       "      <th>3</th>\n",
       "      <td>0</td>\n",
       "      <td>0</td>\n",
       "      <td>0</td>\n",
       "      <td>1</td>\n",
       "      <td>0</td>\n",
       "    </tr>\n",
       "    <tr>\n",
       "      <th>4</th>\n",
       "      <td>0</td>\n",
       "      <td>1</td>\n",
       "      <td>0</td>\n",
       "      <td>0</td>\n",
       "      <td>0</td>\n",
       "    </tr>\n",
       "    <tr>\n",
       "      <th>...</th>\n",
       "      <td>...</td>\n",
       "      <td>...</td>\n",
       "      <td>...</td>\n",
       "      <td>...</td>\n",
       "      <td>...</td>\n",
       "    </tr>\n",
       "    <tr>\n",
       "      <th>53935</th>\n",
       "      <td>0</td>\n",
       "      <td>0</td>\n",
       "      <td>1</td>\n",
       "      <td>0</td>\n",
       "      <td>0</td>\n",
       "    </tr>\n",
       "    <tr>\n",
       "      <th>53936</th>\n",
       "      <td>0</td>\n",
       "      <td>1</td>\n",
       "      <td>0</td>\n",
       "      <td>0</td>\n",
       "      <td>0</td>\n",
       "    </tr>\n",
       "    <tr>\n",
       "      <th>53937</th>\n",
       "      <td>0</td>\n",
       "      <td>0</td>\n",
       "      <td>0</td>\n",
       "      <td>0</td>\n",
       "      <td>1</td>\n",
       "    </tr>\n",
       "    <tr>\n",
       "      <th>53938</th>\n",
       "      <td>0</td>\n",
       "      <td>0</td>\n",
       "      <td>0</td>\n",
       "      <td>1</td>\n",
       "      <td>0</td>\n",
       "    </tr>\n",
       "    <tr>\n",
       "      <th>53939</th>\n",
       "      <td>0</td>\n",
       "      <td>0</td>\n",
       "      <td>1</td>\n",
       "      <td>0</td>\n",
       "      <td>0</td>\n",
       "    </tr>\n",
       "  </tbody>\n",
       "</table>\n",
       "<p>53940 rows × 5 columns</p>\n",
       "</div>"
      ],
      "text/plain": [
       "       Fair  Good  Ideal  Premium  Very Good\n",
       "0         0     0      1        0          0\n",
       "1         0     0      0        1          0\n",
       "2         0     1      0        0          0\n",
       "3         0     0      0        1          0\n",
       "4         0     1      0        0          0\n",
       "...     ...   ...    ...      ...        ...\n",
       "53935     0     0      1        0          0\n",
       "53936     0     1      0        0          0\n",
       "53937     0     0      0        0          1\n",
       "53938     0     0      0        1          0\n",
       "53939     0     0      1        0          0\n",
       "\n",
       "[53940 rows x 5 columns]"
      ]
     },
     "execution_count": 43,
     "metadata": {},
     "output_type": "execute_result"
    }
   ],
   "source": [
    "df_cut=pd.get_dummies(df[\"cut\"])\n",
    "df_cut"
   ]
  },
  {
   "cell_type": "code",
   "execution_count": 44,
   "metadata": {},
   "outputs": [
    {
     "data": {
      "text/html": [
       "<div>\n",
       "<style scoped>\n",
       "    .dataframe tbody tr th:only-of-type {\n",
       "        vertical-align: middle;\n",
       "    }\n",
       "\n",
       "    .dataframe tbody tr th {\n",
       "        vertical-align: top;\n",
       "    }\n",
       "\n",
       "    .dataframe thead th {\n",
       "        text-align: right;\n",
       "    }\n",
       "</style>\n",
       "<table border=\"1\" class=\"dataframe\">\n",
       "  <thead>\n",
       "    <tr style=\"text-align: right;\">\n",
       "      <th></th>\n",
       "      <th>I1</th>\n",
       "      <th>IF</th>\n",
       "      <th>SI1</th>\n",
       "      <th>SI2</th>\n",
       "      <th>VS1</th>\n",
       "      <th>VS2</th>\n",
       "      <th>VVS1</th>\n",
       "      <th>VVS2</th>\n",
       "    </tr>\n",
       "  </thead>\n",
       "  <tbody>\n",
       "    <tr>\n",
       "      <th>0</th>\n",
       "      <td>0</td>\n",
       "      <td>0</td>\n",
       "      <td>0</td>\n",
       "      <td>1</td>\n",
       "      <td>0</td>\n",
       "      <td>0</td>\n",
       "      <td>0</td>\n",
       "      <td>0</td>\n",
       "    </tr>\n",
       "    <tr>\n",
       "      <th>1</th>\n",
       "      <td>0</td>\n",
       "      <td>0</td>\n",
       "      <td>1</td>\n",
       "      <td>0</td>\n",
       "      <td>0</td>\n",
       "      <td>0</td>\n",
       "      <td>0</td>\n",
       "      <td>0</td>\n",
       "    </tr>\n",
       "    <tr>\n",
       "      <th>2</th>\n",
       "      <td>0</td>\n",
       "      <td>0</td>\n",
       "      <td>0</td>\n",
       "      <td>0</td>\n",
       "      <td>1</td>\n",
       "      <td>0</td>\n",
       "      <td>0</td>\n",
       "      <td>0</td>\n",
       "    </tr>\n",
       "    <tr>\n",
       "      <th>3</th>\n",
       "      <td>0</td>\n",
       "      <td>0</td>\n",
       "      <td>0</td>\n",
       "      <td>0</td>\n",
       "      <td>0</td>\n",
       "      <td>1</td>\n",
       "      <td>0</td>\n",
       "      <td>0</td>\n",
       "    </tr>\n",
       "    <tr>\n",
       "      <th>4</th>\n",
       "      <td>0</td>\n",
       "      <td>0</td>\n",
       "      <td>0</td>\n",
       "      <td>1</td>\n",
       "      <td>0</td>\n",
       "      <td>0</td>\n",
       "      <td>0</td>\n",
       "      <td>0</td>\n",
       "    </tr>\n",
       "    <tr>\n",
       "      <th>...</th>\n",
       "      <td>...</td>\n",
       "      <td>...</td>\n",
       "      <td>...</td>\n",
       "      <td>...</td>\n",
       "      <td>...</td>\n",
       "      <td>...</td>\n",
       "      <td>...</td>\n",
       "      <td>...</td>\n",
       "    </tr>\n",
       "    <tr>\n",
       "      <th>53935</th>\n",
       "      <td>0</td>\n",
       "      <td>0</td>\n",
       "      <td>1</td>\n",
       "      <td>0</td>\n",
       "      <td>0</td>\n",
       "      <td>0</td>\n",
       "      <td>0</td>\n",
       "      <td>0</td>\n",
       "    </tr>\n",
       "    <tr>\n",
       "      <th>53936</th>\n",
       "      <td>0</td>\n",
       "      <td>0</td>\n",
       "      <td>1</td>\n",
       "      <td>0</td>\n",
       "      <td>0</td>\n",
       "      <td>0</td>\n",
       "      <td>0</td>\n",
       "      <td>0</td>\n",
       "    </tr>\n",
       "    <tr>\n",
       "      <th>53937</th>\n",
       "      <td>0</td>\n",
       "      <td>0</td>\n",
       "      <td>1</td>\n",
       "      <td>0</td>\n",
       "      <td>0</td>\n",
       "      <td>0</td>\n",
       "      <td>0</td>\n",
       "      <td>0</td>\n",
       "    </tr>\n",
       "    <tr>\n",
       "      <th>53938</th>\n",
       "      <td>0</td>\n",
       "      <td>0</td>\n",
       "      <td>0</td>\n",
       "      <td>1</td>\n",
       "      <td>0</td>\n",
       "      <td>0</td>\n",
       "      <td>0</td>\n",
       "      <td>0</td>\n",
       "    </tr>\n",
       "    <tr>\n",
       "      <th>53939</th>\n",
       "      <td>0</td>\n",
       "      <td>0</td>\n",
       "      <td>0</td>\n",
       "      <td>1</td>\n",
       "      <td>0</td>\n",
       "      <td>0</td>\n",
       "      <td>0</td>\n",
       "      <td>0</td>\n",
       "    </tr>\n",
       "  </tbody>\n",
       "</table>\n",
       "<p>53940 rows × 8 columns</p>\n",
       "</div>"
      ],
      "text/plain": [
       "       I1  IF  SI1  SI2  VS1  VS2  VVS1  VVS2\n",
       "0       0   0    0    1    0    0     0     0\n",
       "1       0   0    1    0    0    0     0     0\n",
       "2       0   0    0    0    1    0     0     0\n",
       "3       0   0    0    0    0    1     0     0\n",
       "4       0   0    0    1    0    0     0     0\n",
       "...    ..  ..  ...  ...  ...  ...   ...   ...\n",
       "53935   0   0    1    0    0    0     0     0\n",
       "53936   0   0    1    0    0    0     0     0\n",
       "53937   0   0    1    0    0    0     0     0\n",
       "53938   0   0    0    1    0    0     0     0\n",
       "53939   0   0    0    1    0    0     0     0\n",
       "\n",
       "[53940 rows x 8 columns]"
      ]
     },
     "execution_count": 44,
     "metadata": {},
     "output_type": "execute_result"
    }
   ],
   "source": [
    "df_clarity=pd.get_dummies(df[\"clarity\"])\n",
    "df_clarity"
   ]
  },
  {
   "cell_type": "code",
   "execution_count": 45,
   "metadata": {},
   "outputs": [
    {
     "data": {
      "text/html": [
       "<div>\n",
       "<style scoped>\n",
       "    .dataframe tbody tr th:only-of-type {\n",
       "        vertical-align: middle;\n",
       "    }\n",
       "\n",
       "    .dataframe tbody tr th {\n",
       "        vertical-align: top;\n",
       "    }\n",
       "\n",
       "    .dataframe thead th {\n",
       "        text-align: right;\n",
       "    }\n",
       "</style>\n",
       "<table border=\"1\" class=\"dataframe\">\n",
       "  <thead>\n",
       "    <tr style=\"text-align: right;\">\n",
       "      <th></th>\n",
       "      <th>ID</th>\n",
       "      <th>carat</th>\n",
       "      <th>cut</th>\n",
       "      <th>color</th>\n",
       "      <th>clarity</th>\n",
       "      <th>depth</th>\n",
       "      <th>table</th>\n",
       "      <th>price</th>\n",
       "      <th>x</th>\n",
       "      <th>y</th>\n",
       "      <th>...</th>\n",
       "      <th>VS2</th>\n",
       "      <th>VVS1</th>\n",
       "      <th>VVS2</th>\n",
       "      <th>D</th>\n",
       "      <th>E</th>\n",
       "      <th>F</th>\n",
       "      <th>G</th>\n",
       "      <th>H</th>\n",
       "      <th>I</th>\n",
       "      <th>J</th>\n",
       "    </tr>\n",
       "  </thead>\n",
       "  <tbody>\n",
       "    <tr>\n",
       "      <th>0</th>\n",
       "      <td>1</td>\n",
       "      <td>0.23</td>\n",
       "      <td>Ideal</td>\n",
       "      <td>E</td>\n",
       "      <td>SI2</td>\n",
       "      <td>61.5</td>\n",
       "      <td>55.0</td>\n",
       "      <td>326</td>\n",
       "      <td>3.95</td>\n",
       "      <td>3.98</td>\n",
       "      <td>...</td>\n",
       "      <td>0</td>\n",
       "      <td>0</td>\n",
       "      <td>0</td>\n",
       "      <td>0</td>\n",
       "      <td>1</td>\n",
       "      <td>0</td>\n",
       "      <td>0</td>\n",
       "      <td>0</td>\n",
       "      <td>0</td>\n",
       "      <td>0</td>\n",
       "    </tr>\n",
       "    <tr>\n",
       "      <th>1</th>\n",
       "      <td>2</td>\n",
       "      <td>0.21</td>\n",
       "      <td>Premium</td>\n",
       "      <td>E</td>\n",
       "      <td>SI1</td>\n",
       "      <td>59.8</td>\n",
       "      <td>61.0</td>\n",
       "      <td>326</td>\n",
       "      <td>3.89</td>\n",
       "      <td>3.84</td>\n",
       "      <td>...</td>\n",
       "      <td>0</td>\n",
       "      <td>0</td>\n",
       "      <td>0</td>\n",
       "      <td>0</td>\n",
       "      <td>1</td>\n",
       "      <td>0</td>\n",
       "      <td>0</td>\n",
       "      <td>0</td>\n",
       "      <td>0</td>\n",
       "      <td>0</td>\n",
       "    </tr>\n",
       "    <tr>\n",
       "      <th>2</th>\n",
       "      <td>3</td>\n",
       "      <td>0.23</td>\n",
       "      <td>Good</td>\n",
       "      <td>E</td>\n",
       "      <td>VS1</td>\n",
       "      <td>56.9</td>\n",
       "      <td>65.0</td>\n",
       "      <td>327</td>\n",
       "      <td>4.05</td>\n",
       "      <td>4.07</td>\n",
       "      <td>...</td>\n",
       "      <td>0</td>\n",
       "      <td>0</td>\n",
       "      <td>0</td>\n",
       "      <td>0</td>\n",
       "      <td>1</td>\n",
       "      <td>0</td>\n",
       "      <td>0</td>\n",
       "      <td>0</td>\n",
       "      <td>0</td>\n",
       "      <td>0</td>\n",
       "    </tr>\n",
       "    <tr>\n",
       "      <th>3</th>\n",
       "      <td>4</td>\n",
       "      <td>0.29</td>\n",
       "      <td>Premium</td>\n",
       "      <td>I</td>\n",
       "      <td>VS2</td>\n",
       "      <td>62.4</td>\n",
       "      <td>58.0</td>\n",
       "      <td>334</td>\n",
       "      <td>4.20</td>\n",
       "      <td>4.23</td>\n",
       "      <td>...</td>\n",
       "      <td>1</td>\n",
       "      <td>0</td>\n",
       "      <td>0</td>\n",
       "      <td>0</td>\n",
       "      <td>0</td>\n",
       "      <td>0</td>\n",
       "      <td>0</td>\n",
       "      <td>0</td>\n",
       "      <td>1</td>\n",
       "      <td>0</td>\n",
       "    </tr>\n",
       "    <tr>\n",
       "      <th>4</th>\n",
       "      <td>5</td>\n",
       "      <td>0.31</td>\n",
       "      <td>Good</td>\n",
       "      <td>J</td>\n",
       "      <td>SI2</td>\n",
       "      <td>63.3</td>\n",
       "      <td>58.0</td>\n",
       "      <td>335</td>\n",
       "      <td>4.34</td>\n",
       "      <td>4.35</td>\n",
       "      <td>...</td>\n",
       "      <td>0</td>\n",
       "      <td>0</td>\n",
       "      <td>0</td>\n",
       "      <td>0</td>\n",
       "      <td>0</td>\n",
       "      <td>0</td>\n",
       "      <td>0</td>\n",
       "      <td>0</td>\n",
       "      <td>0</td>\n",
       "      <td>1</td>\n",
       "    </tr>\n",
       "    <tr>\n",
       "      <th>...</th>\n",
       "      <td>...</td>\n",
       "      <td>...</td>\n",
       "      <td>...</td>\n",
       "      <td>...</td>\n",
       "      <td>...</td>\n",
       "      <td>...</td>\n",
       "      <td>...</td>\n",
       "      <td>...</td>\n",
       "      <td>...</td>\n",
       "      <td>...</td>\n",
       "      <td>...</td>\n",
       "      <td>...</td>\n",
       "      <td>...</td>\n",
       "      <td>...</td>\n",
       "      <td>...</td>\n",
       "      <td>...</td>\n",
       "      <td>...</td>\n",
       "      <td>...</td>\n",
       "      <td>...</td>\n",
       "      <td>...</td>\n",
       "      <td>...</td>\n",
       "    </tr>\n",
       "    <tr>\n",
       "      <th>53935</th>\n",
       "      <td>53936</td>\n",
       "      <td>0.72</td>\n",
       "      <td>Ideal</td>\n",
       "      <td>D</td>\n",
       "      <td>SI1</td>\n",
       "      <td>60.8</td>\n",
       "      <td>57.0</td>\n",
       "      <td>2757</td>\n",
       "      <td>5.75</td>\n",
       "      <td>5.76</td>\n",
       "      <td>...</td>\n",
       "      <td>0</td>\n",
       "      <td>0</td>\n",
       "      <td>0</td>\n",
       "      <td>1</td>\n",
       "      <td>0</td>\n",
       "      <td>0</td>\n",
       "      <td>0</td>\n",
       "      <td>0</td>\n",
       "      <td>0</td>\n",
       "      <td>0</td>\n",
       "    </tr>\n",
       "    <tr>\n",
       "      <th>53936</th>\n",
       "      <td>53937</td>\n",
       "      <td>0.72</td>\n",
       "      <td>Good</td>\n",
       "      <td>D</td>\n",
       "      <td>SI1</td>\n",
       "      <td>63.1</td>\n",
       "      <td>55.0</td>\n",
       "      <td>2757</td>\n",
       "      <td>5.69</td>\n",
       "      <td>5.75</td>\n",
       "      <td>...</td>\n",
       "      <td>0</td>\n",
       "      <td>0</td>\n",
       "      <td>0</td>\n",
       "      <td>1</td>\n",
       "      <td>0</td>\n",
       "      <td>0</td>\n",
       "      <td>0</td>\n",
       "      <td>0</td>\n",
       "      <td>0</td>\n",
       "      <td>0</td>\n",
       "    </tr>\n",
       "    <tr>\n",
       "      <th>53937</th>\n",
       "      <td>53938</td>\n",
       "      <td>0.70</td>\n",
       "      <td>Very Good</td>\n",
       "      <td>D</td>\n",
       "      <td>SI1</td>\n",
       "      <td>62.8</td>\n",
       "      <td>60.0</td>\n",
       "      <td>2757</td>\n",
       "      <td>5.66</td>\n",
       "      <td>5.68</td>\n",
       "      <td>...</td>\n",
       "      <td>0</td>\n",
       "      <td>0</td>\n",
       "      <td>0</td>\n",
       "      <td>1</td>\n",
       "      <td>0</td>\n",
       "      <td>0</td>\n",
       "      <td>0</td>\n",
       "      <td>0</td>\n",
       "      <td>0</td>\n",
       "      <td>0</td>\n",
       "    </tr>\n",
       "    <tr>\n",
       "      <th>53938</th>\n",
       "      <td>53939</td>\n",
       "      <td>0.86</td>\n",
       "      <td>Premium</td>\n",
       "      <td>H</td>\n",
       "      <td>SI2</td>\n",
       "      <td>61.0</td>\n",
       "      <td>58.0</td>\n",
       "      <td>2757</td>\n",
       "      <td>6.15</td>\n",
       "      <td>6.12</td>\n",
       "      <td>...</td>\n",
       "      <td>0</td>\n",
       "      <td>0</td>\n",
       "      <td>0</td>\n",
       "      <td>0</td>\n",
       "      <td>0</td>\n",
       "      <td>0</td>\n",
       "      <td>0</td>\n",
       "      <td>1</td>\n",
       "      <td>0</td>\n",
       "      <td>0</td>\n",
       "    </tr>\n",
       "    <tr>\n",
       "      <th>53939</th>\n",
       "      <td>53940</td>\n",
       "      <td>0.75</td>\n",
       "      <td>Ideal</td>\n",
       "      <td>D</td>\n",
       "      <td>SI2</td>\n",
       "      <td>62.2</td>\n",
       "      <td>55.0</td>\n",
       "      <td>2757</td>\n",
       "      <td>5.83</td>\n",
       "      <td>5.87</td>\n",
       "      <td>...</td>\n",
       "      <td>0</td>\n",
       "      <td>0</td>\n",
       "      <td>0</td>\n",
       "      <td>1</td>\n",
       "      <td>0</td>\n",
       "      <td>0</td>\n",
       "      <td>0</td>\n",
       "      <td>0</td>\n",
       "      <td>0</td>\n",
       "      <td>0</td>\n",
       "    </tr>\n",
       "  </tbody>\n",
       "</table>\n",
       "<p>53940 rows × 31 columns</p>\n",
       "</div>"
      ],
      "text/plain": [
       "          ID  carat        cut color clarity  depth  table  price     x     y  \\\n",
       "0          1   0.23      Ideal     E     SI2   61.5   55.0    326  3.95  3.98   \n",
       "1          2   0.21    Premium     E     SI1   59.8   61.0    326  3.89  3.84   \n",
       "2          3   0.23       Good     E     VS1   56.9   65.0    327  4.05  4.07   \n",
       "3          4   0.29    Premium     I     VS2   62.4   58.0    334  4.20  4.23   \n",
       "4          5   0.31       Good     J     SI2   63.3   58.0    335  4.34  4.35   \n",
       "...      ...    ...        ...   ...     ...    ...    ...    ...   ...   ...   \n",
       "53935  53936   0.72      Ideal     D     SI1   60.8   57.0   2757  5.75  5.76   \n",
       "53936  53937   0.72       Good     D     SI1   63.1   55.0   2757  5.69  5.75   \n",
       "53937  53938   0.70  Very Good     D     SI1   62.8   60.0   2757  5.66  5.68   \n",
       "53938  53939   0.86    Premium     H     SI2   61.0   58.0   2757  6.15  6.12   \n",
       "53939  53940   0.75      Ideal     D     SI2   62.2   55.0   2757  5.83  5.87   \n",
       "\n",
       "       ...  VS2  VVS1  VVS2  D  E  F  G  H  I  J  \n",
       "0      ...    0     0     0  0  1  0  0  0  0  0  \n",
       "1      ...    0     0     0  0  1  0  0  0  0  0  \n",
       "2      ...    0     0     0  0  1  0  0  0  0  0  \n",
       "3      ...    1     0     0  0  0  0  0  0  1  0  \n",
       "4      ...    0     0     0  0  0  0  0  0  0  1  \n",
       "...    ...  ...   ...   ... .. .. .. .. .. .. ..  \n",
       "53935  ...    0     0     0  1  0  0  0  0  0  0  \n",
       "53936  ...    0     0     0  1  0  0  0  0  0  0  \n",
       "53937  ...    0     0     0  1  0  0  0  0  0  0  \n",
       "53938  ...    0     0     0  0  0  0  0  1  0  0  \n",
       "53939  ...    0     0     0  1  0  0  0  0  0  0  \n",
       "\n",
       "[53940 rows x 31 columns]"
      ]
     },
     "execution_count": 45,
     "metadata": {},
     "output_type": "execute_result"
    }
   ],
   "source": [
    "df2=pd.concat([df,df_cut,df_clarity,df_color], axis=\"columns\")\n",
    "df2\n"
   ]
  },
  {
   "cell_type": "code",
   "execution_count": 46,
   "metadata": {},
   "outputs": [
    {
     "data": {
      "text/html": [
       "<div>\n",
       "<style scoped>\n",
       "    .dataframe tbody tr th:only-of-type {\n",
       "        vertical-align: middle;\n",
       "    }\n",
       "\n",
       "    .dataframe tbody tr th {\n",
       "        vertical-align: top;\n",
       "    }\n",
       "\n",
       "    .dataframe thead th {\n",
       "        text-align: right;\n",
       "    }\n",
       "</style>\n",
       "<table border=\"1\" class=\"dataframe\">\n",
       "  <thead>\n",
       "    <tr style=\"text-align: right;\">\n",
       "      <th></th>\n",
       "      <th>carat</th>\n",
       "      <th>depth</th>\n",
       "      <th>table</th>\n",
       "      <th>price</th>\n",
       "      <th>x</th>\n",
       "      <th>y</th>\n",
       "      <th>z</th>\n",
       "      <th>Fair</th>\n",
       "      <th>Good</th>\n",
       "      <th>Ideal</th>\n",
       "      <th>...</th>\n",
       "      <th>VS2</th>\n",
       "      <th>VVS1</th>\n",
       "      <th>VVS2</th>\n",
       "      <th>D</th>\n",
       "      <th>E</th>\n",
       "      <th>F</th>\n",
       "      <th>G</th>\n",
       "      <th>H</th>\n",
       "      <th>I</th>\n",
       "      <th>J</th>\n",
       "    </tr>\n",
       "  </thead>\n",
       "  <tbody>\n",
       "    <tr>\n",
       "      <th>0</th>\n",
       "      <td>0.23</td>\n",
       "      <td>61.5</td>\n",
       "      <td>55.0</td>\n",
       "      <td>326</td>\n",
       "      <td>3.95</td>\n",
       "      <td>3.98</td>\n",
       "      <td>2.43</td>\n",
       "      <td>0</td>\n",
       "      <td>0</td>\n",
       "      <td>1</td>\n",
       "      <td>...</td>\n",
       "      <td>0</td>\n",
       "      <td>0</td>\n",
       "      <td>0</td>\n",
       "      <td>0</td>\n",
       "      <td>1</td>\n",
       "      <td>0</td>\n",
       "      <td>0</td>\n",
       "      <td>0</td>\n",
       "      <td>0</td>\n",
       "      <td>0</td>\n",
       "    </tr>\n",
       "    <tr>\n",
       "      <th>1</th>\n",
       "      <td>0.21</td>\n",
       "      <td>59.8</td>\n",
       "      <td>61.0</td>\n",
       "      <td>326</td>\n",
       "      <td>3.89</td>\n",
       "      <td>3.84</td>\n",
       "      <td>2.31</td>\n",
       "      <td>0</td>\n",
       "      <td>0</td>\n",
       "      <td>0</td>\n",
       "      <td>...</td>\n",
       "      <td>0</td>\n",
       "      <td>0</td>\n",
       "      <td>0</td>\n",
       "      <td>0</td>\n",
       "      <td>1</td>\n",
       "      <td>0</td>\n",
       "      <td>0</td>\n",
       "      <td>0</td>\n",
       "      <td>0</td>\n",
       "      <td>0</td>\n",
       "    </tr>\n",
       "    <tr>\n",
       "      <th>2</th>\n",
       "      <td>0.23</td>\n",
       "      <td>56.9</td>\n",
       "      <td>65.0</td>\n",
       "      <td>327</td>\n",
       "      <td>4.05</td>\n",
       "      <td>4.07</td>\n",
       "      <td>2.31</td>\n",
       "      <td>0</td>\n",
       "      <td>1</td>\n",
       "      <td>0</td>\n",
       "      <td>...</td>\n",
       "      <td>0</td>\n",
       "      <td>0</td>\n",
       "      <td>0</td>\n",
       "      <td>0</td>\n",
       "      <td>1</td>\n",
       "      <td>0</td>\n",
       "      <td>0</td>\n",
       "      <td>0</td>\n",
       "      <td>0</td>\n",
       "      <td>0</td>\n",
       "    </tr>\n",
       "    <tr>\n",
       "      <th>3</th>\n",
       "      <td>0.29</td>\n",
       "      <td>62.4</td>\n",
       "      <td>58.0</td>\n",
       "      <td>334</td>\n",
       "      <td>4.20</td>\n",
       "      <td>4.23</td>\n",
       "      <td>2.63</td>\n",
       "      <td>0</td>\n",
       "      <td>0</td>\n",
       "      <td>0</td>\n",
       "      <td>...</td>\n",
       "      <td>1</td>\n",
       "      <td>0</td>\n",
       "      <td>0</td>\n",
       "      <td>0</td>\n",
       "      <td>0</td>\n",
       "      <td>0</td>\n",
       "      <td>0</td>\n",
       "      <td>0</td>\n",
       "      <td>1</td>\n",
       "      <td>0</td>\n",
       "    </tr>\n",
       "    <tr>\n",
       "      <th>4</th>\n",
       "      <td>0.31</td>\n",
       "      <td>63.3</td>\n",
       "      <td>58.0</td>\n",
       "      <td>335</td>\n",
       "      <td>4.34</td>\n",
       "      <td>4.35</td>\n",
       "      <td>2.75</td>\n",
       "      <td>0</td>\n",
       "      <td>1</td>\n",
       "      <td>0</td>\n",
       "      <td>...</td>\n",
       "      <td>0</td>\n",
       "      <td>0</td>\n",
       "      <td>0</td>\n",
       "      <td>0</td>\n",
       "      <td>0</td>\n",
       "      <td>0</td>\n",
       "      <td>0</td>\n",
       "      <td>0</td>\n",
       "      <td>0</td>\n",
       "      <td>1</td>\n",
       "    </tr>\n",
       "    <tr>\n",
       "      <th>...</th>\n",
       "      <td>...</td>\n",
       "      <td>...</td>\n",
       "      <td>...</td>\n",
       "      <td>...</td>\n",
       "      <td>...</td>\n",
       "      <td>...</td>\n",
       "      <td>...</td>\n",
       "      <td>...</td>\n",
       "      <td>...</td>\n",
       "      <td>...</td>\n",
       "      <td>...</td>\n",
       "      <td>...</td>\n",
       "      <td>...</td>\n",
       "      <td>...</td>\n",
       "      <td>...</td>\n",
       "      <td>...</td>\n",
       "      <td>...</td>\n",
       "      <td>...</td>\n",
       "      <td>...</td>\n",
       "      <td>...</td>\n",
       "      <td>...</td>\n",
       "    </tr>\n",
       "    <tr>\n",
       "      <th>53935</th>\n",
       "      <td>0.72</td>\n",
       "      <td>60.8</td>\n",
       "      <td>57.0</td>\n",
       "      <td>2757</td>\n",
       "      <td>5.75</td>\n",
       "      <td>5.76</td>\n",
       "      <td>3.50</td>\n",
       "      <td>0</td>\n",
       "      <td>0</td>\n",
       "      <td>1</td>\n",
       "      <td>...</td>\n",
       "      <td>0</td>\n",
       "      <td>0</td>\n",
       "      <td>0</td>\n",
       "      <td>1</td>\n",
       "      <td>0</td>\n",
       "      <td>0</td>\n",
       "      <td>0</td>\n",
       "      <td>0</td>\n",
       "      <td>0</td>\n",
       "      <td>0</td>\n",
       "    </tr>\n",
       "    <tr>\n",
       "      <th>53936</th>\n",
       "      <td>0.72</td>\n",
       "      <td>63.1</td>\n",
       "      <td>55.0</td>\n",
       "      <td>2757</td>\n",
       "      <td>5.69</td>\n",
       "      <td>5.75</td>\n",
       "      <td>3.61</td>\n",
       "      <td>0</td>\n",
       "      <td>1</td>\n",
       "      <td>0</td>\n",
       "      <td>...</td>\n",
       "      <td>0</td>\n",
       "      <td>0</td>\n",
       "      <td>0</td>\n",
       "      <td>1</td>\n",
       "      <td>0</td>\n",
       "      <td>0</td>\n",
       "      <td>0</td>\n",
       "      <td>0</td>\n",
       "      <td>0</td>\n",
       "      <td>0</td>\n",
       "    </tr>\n",
       "    <tr>\n",
       "      <th>53937</th>\n",
       "      <td>0.70</td>\n",
       "      <td>62.8</td>\n",
       "      <td>60.0</td>\n",
       "      <td>2757</td>\n",
       "      <td>5.66</td>\n",
       "      <td>5.68</td>\n",
       "      <td>3.56</td>\n",
       "      <td>0</td>\n",
       "      <td>0</td>\n",
       "      <td>0</td>\n",
       "      <td>...</td>\n",
       "      <td>0</td>\n",
       "      <td>0</td>\n",
       "      <td>0</td>\n",
       "      <td>1</td>\n",
       "      <td>0</td>\n",
       "      <td>0</td>\n",
       "      <td>0</td>\n",
       "      <td>0</td>\n",
       "      <td>0</td>\n",
       "      <td>0</td>\n",
       "    </tr>\n",
       "    <tr>\n",
       "      <th>53938</th>\n",
       "      <td>0.86</td>\n",
       "      <td>61.0</td>\n",
       "      <td>58.0</td>\n",
       "      <td>2757</td>\n",
       "      <td>6.15</td>\n",
       "      <td>6.12</td>\n",
       "      <td>3.74</td>\n",
       "      <td>0</td>\n",
       "      <td>0</td>\n",
       "      <td>0</td>\n",
       "      <td>...</td>\n",
       "      <td>0</td>\n",
       "      <td>0</td>\n",
       "      <td>0</td>\n",
       "      <td>0</td>\n",
       "      <td>0</td>\n",
       "      <td>0</td>\n",
       "      <td>0</td>\n",
       "      <td>1</td>\n",
       "      <td>0</td>\n",
       "      <td>0</td>\n",
       "    </tr>\n",
       "    <tr>\n",
       "      <th>53939</th>\n",
       "      <td>0.75</td>\n",
       "      <td>62.2</td>\n",
       "      <td>55.0</td>\n",
       "      <td>2757</td>\n",
       "      <td>5.83</td>\n",
       "      <td>5.87</td>\n",
       "      <td>3.64</td>\n",
       "      <td>0</td>\n",
       "      <td>0</td>\n",
       "      <td>1</td>\n",
       "      <td>...</td>\n",
       "      <td>0</td>\n",
       "      <td>0</td>\n",
       "      <td>0</td>\n",
       "      <td>1</td>\n",
       "      <td>0</td>\n",
       "      <td>0</td>\n",
       "      <td>0</td>\n",
       "      <td>0</td>\n",
       "      <td>0</td>\n",
       "      <td>0</td>\n",
       "    </tr>\n",
       "  </tbody>\n",
       "</table>\n",
       "<p>53940 rows × 27 columns</p>\n",
       "</div>"
      ],
      "text/plain": [
       "       carat  depth  table  price     x     y     z  Fair  Good  Ideal  ...  \\\n",
       "0       0.23   61.5   55.0    326  3.95  3.98  2.43     0     0      1  ...   \n",
       "1       0.21   59.8   61.0    326  3.89  3.84  2.31     0     0      0  ...   \n",
       "2       0.23   56.9   65.0    327  4.05  4.07  2.31     0     1      0  ...   \n",
       "3       0.29   62.4   58.0    334  4.20  4.23  2.63     0     0      0  ...   \n",
       "4       0.31   63.3   58.0    335  4.34  4.35  2.75     0     1      0  ...   \n",
       "...      ...    ...    ...    ...   ...   ...   ...   ...   ...    ...  ...   \n",
       "53935   0.72   60.8   57.0   2757  5.75  5.76  3.50     0     0      1  ...   \n",
       "53936   0.72   63.1   55.0   2757  5.69  5.75  3.61     0     1      0  ...   \n",
       "53937   0.70   62.8   60.0   2757  5.66  5.68  3.56     0     0      0  ...   \n",
       "53938   0.86   61.0   58.0   2757  6.15  6.12  3.74     0     0      0  ...   \n",
       "53939   0.75   62.2   55.0   2757  5.83  5.87  3.64     0     0      1  ...   \n",
       "\n",
       "       VS2  VVS1  VVS2  D  E  F  G  H  I  J  \n",
       "0        0     0     0  0  1  0  0  0  0  0  \n",
       "1        0     0     0  0  1  0  0  0  0  0  \n",
       "2        0     0     0  0  1  0  0  0  0  0  \n",
       "3        1     0     0  0  0  0  0  0  1  0  \n",
       "4        0     0     0  0  0  0  0  0  0  1  \n",
       "...    ...   ...   ... .. .. .. .. .. .. ..  \n",
       "53935    0     0     0  1  0  0  0  0  0  0  \n",
       "53936    0     0     0  1  0  0  0  0  0  0  \n",
       "53937    0     0     0  1  0  0  0  0  0  0  \n",
       "53938    0     0     0  0  0  0  0  1  0  0  \n",
       "53939    0     0     0  1  0  0  0  0  0  0  \n",
       "\n",
       "[53940 rows x 27 columns]"
      ]
     },
     "execution_count": 46,
     "metadata": {},
     "output_type": "execute_result"
    }
   ],
   "source": [
    "df3=df2.drop([\"ID\",\"cut\", \"color\", \"clarity\"], axis=\"columns\")\n",
    "df3"
   ]
  },
  {
   "cell_type": "code",
   "execution_count": 47,
   "metadata": {},
   "outputs": [
    {
     "data": {
      "text/html": [
       "<div>\n",
       "<style scoped>\n",
       "    .dataframe tbody tr th:only-of-type {\n",
       "        vertical-align: middle;\n",
       "    }\n",
       "\n",
       "    .dataframe tbody tr th {\n",
       "        vertical-align: top;\n",
       "    }\n",
       "\n",
       "    .dataframe thead th {\n",
       "        text-align: right;\n",
       "    }\n",
       "</style>\n",
       "<table border=\"1\" class=\"dataframe\">\n",
       "  <thead>\n",
       "    <tr style=\"text-align: right;\">\n",
       "      <th></th>\n",
       "      <th>carat</th>\n",
       "      <th>depth</th>\n",
       "      <th>table</th>\n",
       "      <th>price</th>\n",
       "      <th>x</th>\n",
       "      <th>y</th>\n",
       "      <th>z</th>\n",
       "      <th>Fair</th>\n",
       "      <th>Good</th>\n",
       "      <th>Ideal</th>\n",
       "      <th>...</th>\n",
       "      <th>VS2</th>\n",
       "      <th>VVS1</th>\n",
       "      <th>VVS2</th>\n",
       "      <th>D</th>\n",
       "      <th>E</th>\n",
       "      <th>F</th>\n",
       "      <th>G</th>\n",
       "      <th>H</th>\n",
       "      <th>I</th>\n",
       "      <th>J</th>\n",
       "    </tr>\n",
       "  </thead>\n",
       "  <tbody>\n",
       "    <tr>\n",
       "      <th>carat</th>\n",
       "      <td>1.000000</td>\n",
       "      <td>0.028224</td>\n",
       "      <td>0.181618</td>\n",
       "      <td>0.921591</td>\n",
       "      <td>0.975094</td>\n",
       "      <td>0.951722</td>\n",
       "      <td>0.953387</td>\n",
       "      <td>0.091844</td>\n",
       "      <td>0.034196</td>\n",
       "      <td>-0.163660</td>\n",
       "      <td>...</td>\n",
       "      <td>-0.038904</td>\n",
       "      <td>-0.167571</td>\n",
       "      <td>-0.137024</td>\n",
       "      <td>-0.112057</td>\n",
       "      <td>-0.139215</td>\n",
       "      <td>-0.060052</td>\n",
       "      <td>-0.029038</td>\n",
       "      <td>0.102465</td>\n",
       "      <td>0.161494</td>\n",
       "      <td>0.180054</td>\n",
       "    </tr>\n",
       "    <tr>\n",
       "      <th>depth</th>\n",
       "      <td>0.028224</td>\n",
       "      <td>1.000000</td>\n",
       "      <td>-0.295779</td>\n",
       "      <td>-0.010647</td>\n",
       "      <td>-0.025289</td>\n",
       "      <td>-0.029341</td>\n",
       "      <td>0.094924</td>\n",
       "      <td>0.280657</td>\n",
       "      <td>0.136114</td>\n",
       "      <td>-0.022778</td>\n",
       "      <td>...</td>\n",
       "      <td>-0.009459</td>\n",
       "      <td>-0.023477</td>\n",
       "      <td>-0.019243</td>\n",
       "      <td>-0.013566</td>\n",
       "      <td>-0.028713</td>\n",
       "      <td>-0.017741</td>\n",
       "      <td>0.002768</td>\n",
       "      <td>0.026037</td>\n",
       "      <td>0.022630</td>\n",
       "      <td>0.022543</td>\n",
       "    </tr>\n",
       "    <tr>\n",
       "      <th>table</th>\n",
       "      <td>0.181618</td>\n",
       "      <td>-0.295779</td>\n",
       "      <td>1.000000</td>\n",
       "      <td>0.127134</td>\n",
       "      <td>0.195344</td>\n",
       "      <td>0.183760</td>\n",
       "      <td>0.150929</td>\n",
       "      <td>0.125332</td>\n",
       "      <td>0.175174</td>\n",
       "      <td>-0.549599</td>\n",
       "      <td>...</td>\n",
       "      <td>-0.009655</td>\n",
       "      <td>-0.069103</td>\n",
       "      <td>-0.062273</td>\n",
       "      <td>-0.008921</td>\n",
       "      <td>0.007172</td>\n",
       "      <td>-0.004906</td>\n",
       "      <td>-0.038815</td>\n",
       "      <td>0.011574</td>\n",
       "      <td>0.017967</td>\n",
       "      <td>0.037253</td>\n",
       "    </tr>\n",
       "    <tr>\n",
       "      <th>price</th>\n",
       "      <td>0.921591</td>\n",
       "      <td>-0.010647</td>\n",
       "      <td>0.127134</td>\n",
       "      <td>1.000000</td>\n",
       "      <td>0.884435</td>\n",
       "      <td>0.865421</td>\n",
       "      <td>0.861249</td>\n",
       "      <td>0.018728</td>\n",
       "      <td>-0.000312</td>\n",
       "      <td>-0.097175</td>\n",
       "      <td>...</td>\n",
       "      <td>-0.001062</td>\n",
       "      <td>-0.095266</td>\n",
       "      <td>-0.052381</td>\n",
       "      <td>-0.072473</td>\n",
       "      <td>-0.101089</td>\n",
       "      <td>-0.024161</td>\n",
       "      <td>0.008556</td>\n",
       "      <td>0.059223</td>\n",
       "      <td>0.097125</td>\n",
       "      <td>0.081710</td>\n",
       "    </tr>\n",
       "    <tr>\n",
       "      <th>x</th>\n",
       "      <td>0.975094</td>\n",
       "      <td>-0.025289</td>\n",
       "      <td>0.195344</td>\n",
       "      <td>0.884435</td>\n",
       "      <td>1.000000</td>\n",
       "      <td>0.974701</td>\n",
       "      <td>0.970772</td>\n",
       "      <td>0.080644</td>\n",
       "      <td>0.030349</td>\n",
       "      <td>-0.162674</td>\n",
       "      <td>...</td>\n",
       "      <td>-0.035507</td>\n",
       "      <td>-0.185253</td>\n",
       "      <td>-0.147151</td>\n",
       "      <td>-0.106127</td>\n",
       "      <td>-0.134213</td>\n",
       "      <td>-0.048021</td>\n",
       "      <td>-0.024593</td>\n",
       "      <td>0.095896</td>\n",
       "      <td>0.146522</td>\n",
       "      <td>0.164658</td>\n",
       "    </tr>\n",
       "    <tr>\n",
       "      <th>y</th>\n",
       "      <td>0.951722</td>\n",
       "      <td>-0.029341</td>\n",
       "      <td>0.183760</td>\n",
       "      <td>0.865421</td>\n",
       "      <td>0.974701</td>\n",
       "      <td>1.000000</td>\n",
       "      <td>0.952006</td>\n",
       "      <td>0.068822</td>\n",
       "      <td>0.032187</td>\n",
       "      <td>-0.153158</td>\n",
       "      <td>...</td>\n",
       "      <td>-0.035928</td>\n",
       "      <td>-0.179271</td>\n",
       "      <td>-0.141624</td>\n",
       "      <td>-0.103999</td>\n",
       "      <td>-0.130136</td>\n",
       "      <td>-0.046707</td>\n",
       "      <td>-0.024479</td>\n",
       "      <td>0.093480</td>\n",
       "      <td>0.142895</td>\n",
       "      <td>0.160776</td>\n",
       "    </tr>\n",
       "    <tr>\n",
       "      <th>z</th>\n",
       "      <td>0.953387</td>\n",
       "      <td>0.094924</td>\n",
       "      <td>0.150929</td>\n",
       "      <td>0.861249</td>\n",
       "      <td>0.970772</td>\n",
       "      <td>0.952006</td>\n",
       "      <td>1.000000</td>\n",
       "      <td>0.110367</td>\n",
       "      <td>0.045169</td>\n",
       "      <td>-0.158688</td>\n",
       "      <td>...</td>\n",
       "      <td>-0.036314</td>\n",
       "      <td>-0.182401</td>\n",
       "      <td>-0.144746</td>\n",
       "      <td>-0.105216</td>\n",
       "      <td>-0.132210</td>\n",
       "      <td>-0.048803</td>\n",
       "      <td>-0.024582</td>\n",
       "      <td>0.095041</td>\n",
       "      <td>0.145276</td>\n",
       "      <td>0.164217</td>\n",
       "    </tr>\n",
       "    <tr>\n",
       "      <th>Fair</th>\n",
       "      <td>0.091844</td>\n",
       "      <td>0.280657</td>\n",
       "      <td>0.125332</td>\n",
       "      <td>0.018728</td>\n",
       "      <td>0.080644</td>\n",
       "      <td>0.068822</td>\n",
       "      <td>0.110367</td>\n",
       "      <td>1.000000</td>\n",
       "      <td>-0.055482</td>\n",
       "      <td>-0.143078</td>\n",
       "      <td>...</td>\n",
       "      <td>-0.027266</td>\n",
       "      <td>-0.039920</td>\n",
       "      <td>-0.030703</td>\n",
       "      <td>-0.012893</td>\n",
       "      <td>-0.019334</td>\n",
       "      <td>0.007763</td>\n",
       "      <td>-0.006171</td>\n",
       "      <td>0.016646</td>\n",
       "      <td>0.004770</td>\n",
       "      <td>0.017257</td>\n",
       "    </tr>\n",
       "    <tr>\n",
       "      <th>Good</th>\n",
       "      <td>0.034196</td>\n",
       "      <td>0.136114</td>\n",
       "      <td>0.175174</td>\n",
       "      <td>-0.000312</td>\n",
       "      <td>0.030349</td>\n",
       "      <td>0.032187</td>\n",
       "      <td>0.045169</td>\n",
       "      <td>-0.055482</td>\n",
       "      <td>1.000000</td>\n",
       "      <td>-0.258018</td>\n",
       "      <td>...</td>\n",
       "      <td>-0.021063</td>\n",
       "      <td>-0.037564</td>\n",
       "      <td>-0.038627</td>\n",
       "      <td>0.008909</td>\n",
       "      <td>0.007013</td>\n",
       "      <td>0.006949</td>\n",
       "      <td>-0.024729</td>\n",
       "      <td>-0.009517</td>\n",
       "      <td>0.006187</td>\n",
       "      <td>0.014977</td>\n",
       "    </tr>\n",
       "    <tr>\n",
       "      <th>Ideal</th>\n",
       "      <td>-0.163660</td>\n",
       "      <td>-0.022778</td>\n",
       "      <td>-0.549599</td>\n",
       "      <td>-0.097175</td>\n",
       "      <td>-0.162674</td>\n",
       "      <td>-0.153158</td>\n",
       "      <td>-0.158688</td>\n",
       "      <td>-0.143078</td>\n",
       "      <td>-0.258018</td>\n",
       "      <td>1.000000</td>\n",
       "      <td>...</td>\n",
       "      <td>0.015669</td>\n",
       "      <td>0.088354</td>\n",
       "      <td>0.075508</td>\n",
       "      <td>0.014521</td>\n",
       "      <td>-0.001105</td>\n",
       "      <td>0.001351</td>\n",
       "      <td>0.034649</td>\n",
       "      <td>-0.021264</td>\n",
       "      <td>-0.009225</td>\n",
       "      <td>-0.038490</td>\n",
       "    </tr>\n",
       "    <tr>\n",
       "      <th>Premium</th>\n",
       "      <td>0.116245</td>\n",
       "      <td>-0.198306</td>\n",
       "      <td>0.338072</td>\n",
       "      <td>0.095706</td>\n",
       "      <td>0.126820</td>\n",
       "      <td>0.107943</td>\n",
       "      <td>0.090019</td>\n",
       "      <td>-0.102801</td>\n",
       "      <td>-0.185385</td>\n",
       "      <td>-0.478074</td>\n",
       "      <td>...</td>\n",
       "      <td>0.022611</td>\n",
       "      <td>-0.053852</td>\n",
       "      <td>-0.061949</td>\n",
       "      <td>-0.016566</td>\n",
       "      <td>-0.018500</td>\n",
       "      <td>-0.012098</td>\n",
       "      <td>0.003859</td>\n",
       "      <td>0.027895</td>\n",
       "      <td>0.005899</td>\n",
       "      <td>0.017231</td>\n",
       "    </tr>\n",
       "    <tr>\n",
       "      <th>Very Good</th>\n",
       "      <td>0.009568</td>\n",
       "      <td>0.025828</td>\n",
       "      <td>0.119971</td>\n",
       "      <td>0.006593</td>\n",
       "      <td>0.004569</td>\n",
       "      <td>0.016699</td>\n",
       "      <td>0.016039</td>\n",
       "      <td>-0.094236</td>\n",
       "      <td>-0.169940</td>\n",
       "      <td>-0.438243</td>\n",
       "      <td>...</td>\n",
       "      <td>-0.016412</td>\n",
       "      <td>-0.005251</td>\n",
       "      <td>0.015284</td>\n",
       "      <td>-0.000608</td>\n",
       "      <td>0.023711</td>\n",
       "      <td>0.003110</td>\n",
       "      <td>-0.025171</td>\n",
       "      <td>-0.004437</td>\n",
       "      <td>-0.001549</td>\n",
       "      <td>0.009816</td>\n",
       "    </tr>\n",
       "    <tr>\n",
       "      <th>I1</th>\n",
       "      <td>0.120983</td>\n",
       "      <td>0.081135</td>\n",
       "      <td>0.044716</td>\n",
       "      <td>-0.000255</td>\n",
       "      <td>0.108361</td>\n",
       "      <td>0.100736</td>\n",
       "      <td>0.111913</td>\n",
       "      <td>0.175852</td>\n",
       "      <td>0.015844</td>\n",
       "      <td>-0.048795</td>\n",
       "      <td>...</td>\n",
       "      <td>-0.064002</td>\n",
       "      <td>-0.031819</td>\n",
       "      <td>-0.037997</td>\n",
       "      <td>-0.024545</td>\n",
       "      <td>-0.013462</td>\n",
       "      <td>0.004974</td>\n",
       "      <td>-0.002006</td>\n",
       "      <td>0.021150</td>\n",
       "      <td>0.009278</td>\n",
       "      <td>0.008192</td>\n",
       "    </tr>\n",
       "    <tr>\n",
       "      <th>IF</th>\n",
       "      <td>-0.114449</td>\n",
       "      <td>-0.030881</td>\n",
       "      <td>-0.078766</td>\n",
       "      <td>-0.049596</td>\n",
       "      <td>-0.125976</td>\n",
       "      <td>-0.120800</td>\n",
       "      <td>-0.125248</td>\n",
       "      <td>-0.027022</td>\n",
       "      <td>-0.033046</td>\n",
       "      <td>0.104986</td>\n",
       "      <td>...</td>\n",
       "      <td>-0.100470</td>\n",
       "      <td>-0.049949</td>\n",
       "      <td>-0.059648</td>\n",
       "      <td>-0.047418</td>\n",
       "      <td>-0.044863</td>\n",
       "      <td>0.018539</td>\n",
       "      <td>0.077917</td>\n",
       "      <td>0.006720</td>\n",
       "      <td>-0.012711</td>\n",
       "      <td>-0.019654</td>\n",
       "    </tr>\n",
       "    <tr>\n",
       "      <th>SI1</th>\n",
       "      <td>0.062669</td>\n",
       "      <td>0.040899</td>\n",
       "      <td>0.051959</td>\n",
       "      <td>0.008957</td>\n",
       "      <td>0.079241</td>\n",
       "      <td>0.076097</td>\n",
       "      <td>0.081005</td>\n",
       "      <td>0.004587</td>\n",
       "      <td>0.055938</td>\n",
       "      <td>-0.082865</td>\n",
       "      <td>...</td>\n",
       "      <td>-0.306592</td>\n",
       "      <td>-0.152423</td>\n",
       "      <td>-0.182020</td>\n",
       "      <td>0.057715</td>\n",
       "      <td>0.005953</td>\n",
       "      <td>-0.020436</td>\n",
       "      <td>-0.080738</td>\n",
       "      <td>0.031613</td>\n",
       "      <td>0.015934</td>\n",
       "      <td>0.013609</td>\n",
       "    </tr>\n",
       "    <tr>\n",
       "      <th>SI2</th>\n",
       "      <td>0.267483</td>\n",
       "      <td>0.007202</td>\n",
       "      <td>0.095344</td>\n",
       "      <td>0.128420</td>\n",
       "      <td>0.270827</td>\n",
       "      <td>0.263252</td>\n",
       "      <td>0.263192</td>\n",
       "      <td>0.055506</td>\n",
       "      <td>0.041970</td>\n",
       "      <td>-0.108242</td>\n",
       "      <td>...</td>\n",
       "      <td>-0.245816</td>\n",
       "      <td>-0.122208</td>\n",
       "      <td>-0.145938</td>\n",
       "      <td>0.032017</td>\n",
       "      <td>0.005514</td>\n",
       "      <td>-0.002251</td>\n",
       "      <td>-0.045651</td>\n",
       "      <td>0.020163</td>\n",
       "      <td>-0.001996</td>\n",
       "      <td>0.000084</td>\n",
       "    </tr>\n",
       "    <tr>\n",
       "      <th>VS1</th>\n",
       "      <td>-0.063094</td>\n",
       "      <td>-0.024169</td>\n",
       "      <td>-0.026858</td>\n",
       "      <td>-0.009886</td>\n",
       "      <td>-0.059882</td>\n",
       "      <td>-0.056490</td>\n",
       "      <td>-0.058513</td>\n",
       "      <td>-0.022453</td>\n",
       "      <td>-0.017116</td>\n",
       "      <td>0.034247</td>\n",
       "      <td>...</td>\n",
       "      <td>-0.229133</td>\n",
       "      <td>-0.113914</td>\n",
       "      <td>-0.136033</td>\n",
       "      <td>-0.050134</td>\n",
       "      <td>-0.027238</td>\n",
       "      <td>-0.011038</td>\n",
       "      <td>0.055601</td>\n",
       "      <td>-0.012740</td>\n",
       "      <td>0.024189</td>\n",
       "      <td>0.027150</td>\n",
       "    </tr>\n",
       "    <tr>\n",
       "      <th>VS2</th>\n",
       "      <td>-0.038904</td>\n",
       "      <td>-0.009459</td>\n",
       "      <td>-0.009655</td>\n",
       "      <td>-0.001062</td>\n",
       "      <td>-0.035507</td>\n",
       "      <td>-0.035928</td>\n",
       "      <td>-0.036314</td>\n",
       "      <td>-0.027266</td>\n",
       "      <td>-0.021063</td>\n",
       "      <td>0.015669</td>\n",
       "      <td>...</td>\n",
       "      <td>1.000000</td>\n",
       "      <td>-0.146204</td>\n",
       "      <td>-0.174594</td>\n",
       "      <td>0.021007</td>\n",
       "      <td>0.027954</td>\n",
       "      <td>0.003775</td>\n",
       "      <td>-0.023829</td>\n",
       "      <td>-0.029923</td>\n",
       "      <td>-0.009293</td>\n",
       "      <td>0.018496</td>\n",
       "    </tr>\n",
       "    <tr>\n",
       "      <th>VVS1</th>\n",
       "      <td>-0.167571</td>\n",
       "      <td>-0.023477</td>\n",
       "      <td>-0.069103</td>\n",
       "      <td>-0.095266</td>\n",
       "      <td>-0.185253</td>\n",
       "      <td>-0.179271</td>\n",
       "      <td>-0.182401</td>\n",
       "      <td>-0.039920</td>\n",
       "      <td>-0.037564</td>\n",
       "      <td>0.088354</td>\n",
       "      <td>...</td>\n",
       "      <td>-0.146204</td>\n",
       "      <td>1.000000</td>\n",
       "      <td>-0.086800</td>\n",
       "      <td>-0.046091</td>\n",
       "      <td>-0.001502</td>\n",
       "      <td>0.016901</td>\n",
       "      <td>0.042398</td>\n",
       "      <td>0.004561</td>\n",
       "      <td>-0.003041</td>\n",
       "      <td>-0.038608</td>\n",
       "    </tr>\n",
       "    <tr>\n",
       "      <th>VVS2</th>\n",
       "      <td>-0.137024</td>\n",
       "      <td>-0.019243</td>\n",
       "      <td>-0.062273</td>\n",
       "      <td>-0.052381</td>\n",
       "      <td>-0.147151</td>\n",
       "      <td>-0.141624</td>\n",
       "      <td>-0.144746</td>\n",
       "      <td>-0.030703</td>\n",
       "      <td>-0.038627</td>\n",
       "      <td>0.075508</td>\n",
       "      <td>...</td>\n",
       "      <td>-0.174594</td>\n",
       "      <td>-0.086800</td>\n",
       "      <td>1.000000</td>\n",
       "      <td>-0.015975</td>\n",
       "      <td>0.011683</td>\n",
       "      <td>0.013128</td>\n",
       "      <td>0.059744</td>\n",
       "      <td>-0.030271</td>\n",
       "      <td>-0.030483</td>\n",
       "      <td>-0.037971</td>\n",
       "    </tr>\n",
       "    <tr>\n",
       "      <th>D</th>\n",
       "      <td>-0.112057</td>\n",
       "      <td>-0.013566</td>\n",
       "      <td>-0.008921</td>\n",
       "      <td>-0.072473</td>\n",
       "      <td>-0.106127</td>\n",
       "      <td>-0.103999</td>\n",
       "      <td>-0.105216</td>\n",
       "      <td>-0.012893</td>\n",
       "      <td>0.008909</td>\n",
       "      <td>0.014521</td>\n",
       "      <td>...</td>\n",
       "      <td>0.021007</td>\n",
       "      <td>-0.046091</td>\n",
       "      <td>-0.015975</td>\n",
       "      <td>1.000000</td>\n",
       "      <td>-0.178550</td>\n",
       "      <td>-0.175704</td>\n",
       "      <td>-0.195021</td>\n",
       "      <td>-0.161672</td>\n",
       "      <td>-0.126699</td>\n",
       "      <td>-0.088817</td>\n",
       "    </tr>\n",
       "    <tr>\n",
       "      <th>E</th>\n",
       "      <td>-0.139215</td>\n",
       "      <td>-0.028713</td>\n",
       "      <td>0.007172</td>\n",
       "      <td>-0.101089</td>\n",
       "      <td>-0.134213</td>\n",
       "      <td>-0.130136</td>\n",
       "      <td>-0.132210</td>\n",
       "      <td>-0.019334</td>\n",
       "      <td>0.007013</td>\n",
       "      <td>-0.001105</td>\n",
       "      <td>...</td>\n",
       "      <td>0.027954</td>\n",
       "      <td>-0.001502</td>\n",
       "      <td>0.011683</td>\n",
       "      <td>-0.178550</td>\n",
       "      <td>1.000000</td>\n",
       "      <td>-0.218401</td>\n",
       "      <td>-0.242411</td>\n",
       "      <td>-0.200958</td>\n",
       "      <td>-0.157487</td>\n",
       "      <td>-0.110400</td>\n",
       "    </tr>\n",
       "    <tr>\n",
       "      <th>F</th>\n",
       "      <td>-0.060052</td>\n",
       "      <td>-0.017741</td>\n",
       "      <td>-0.004906</td>\n",
       "      <td>-0.024161</td>\n",
       "      <td>-0.048021</td>\n",
       "      <td>-0.046707</td>\n",
       "      <td>-0.048803</td>\n",
       "      <td>0.007763</td>\n",
       "      <td>0.006949</td>\n",
       "      <td>0.001351</td>\n",
       "      <td>...</td>\n",
       "      <td>0.003775</td>\n",
       "      <td>0.016901</td>\n",
       "      <td>0.013128</td>\n",
       "      <td>-0.175704</td>\n",
       "      <td>-0.218401</td>\n",
       "      <td>1.000000</td>\n",
       "      <td>-0.238547</td>\n",
       "      <td>-0.197755</td>\n",
       "      <td>-0.154977</td>\n",
       "      <td>-0.108640</td>\n",
       "    </tr>\n",
       "    <tr>\n",
       "      <th>G</th>\n",
       "      <td>-0.029038</td>\n",
       "      <td>0.002768</td>\n",
       "      <td>-0.038815</td>\n",
       "      <td>0.008556</td>\n",
       "      <td>-0.024593</td>\n",
       "      <td>-0.024479</td>\n",
       "      <td>-0.024582</td>\n",
       "      <td>-0.006171</td>\n",
       "      <td>-0.024729</td>\n",
       "      <td>0.034649</td>\n",
       "      <td>...</td>\n",
       "      <td>-0.023829</td>\n",
       "      <td>0.042398</td>\n",
       "      <td>0.059744</td>\n",
       "      <td>-0.195021</td>\n",
       "      <td>-0.242411</td>\n",
       "      <td>-0.238547</td>\n",
       "      <td>1.000000</td>\n",
       "      <td>-0.219496</td>\n",
       "      <td>-0.172014</td>\n",
       "      <td>-0.120584</td>\n",
       "    </tr>\n",
       "    <tr>\n",
       "      <th>H</th>\n",
       "      <td>0.102465</td>\n",
       "      <td>0.026037</td>\n",
       "      <td>0.011574</td>\n",
       "      <td>0.059223</td>\n",
       "      <td>0.095896</td>\n",
       "      <td>0.093480</td>\n",
       "      <td>0.095041</td>\n",
       "      <td>0.016646</td>\n",
       "      <td>-0.009517</td>\n",
       "      <td>-0.021264</td>\n",
       "      <td>...</td>\n",
       "      <td>-0.029923</td>\n",
       "      <td>0.004561</td>\n",
       "      <td>-0.030271</td>\n",
       "      <td>-0.161672</td>\n",
       "      <td>-0.200958</td>\n",
       "      <td>-0.197755</td>\n",
       "      <td>-0.219496</td>\n",
       "      <td>1.000000</td>\n",
       "      <td>-0.142600</td>\n",
       "      <td>-0.099964</td>\n",
       "    </tr>\n",
       "    <tr>\n",
       "      <th>I</th>\n",
       "      <td>0.161494</td>\n",
       "      <td>0.022630</td>\n",
       "      <td>0.017967</td>\n",
       "      <td>0.097125</td>\n",
       "      <td>0.146522</td>\n",
       "      <td>0.142895</td>\n",
       "      <td>0.145276</td>\n",
       "      <td>0.004770</td>\n",
       "      <td>0.006187</td>\n",
       "      <td>-0.009225</td>\n",
       "      <td>...</td>\n",
       "      <td>-0.009293</td>\n",
       "      <td>-0.003041</td>\n",
       "      <td>-0.030483</td>\n",
       "      <td>-0.126699</td>\n",
       "      <td>-0.157487</td>\n",
       "      <td>-0.154977</td>\n",
       "      <td>-0.172014</td>\n",
       "      <td>-0.142600</td>\n",
       "      <td>1.000000</td>\n",
       "      <td>-0.078339</td>\n",
       "    </tr>\n",
       "    <tr>\n",
       "      <th>J</th>\n",
       "      <td>0.180054</td>\n",
       "      <td>0.022543</td>\n",
       "      <td>0.037253</td>\n",
       "      <td>0.081710</td>\n",
       "      <td>0.164658</td>\n",
       "      <td>0.160776</td>\n",
       "      <td>0.164217</td>\n",
       "      <td>0.017257</td>\n",
       "      <td>0.014977</td>\n",
       "      <td>-0.038490</td>\n",
       "      <td>...</td>\n",
       "      <td>0.018496</td>\n",
       "      <td>-0.038608</td>\n",
       "      <td>-0.037971</td>\n",
       "      <td>-0.088817</td>\n",
       "      <td>-0.110400</td>\n",
       "      <td>-0.108640</td>\n",
       "      <td>-0.120584</td>\n",
       "      <td>-0.099964</td>\n",
       "      <td>-0.078339</td>\n",
       "      <td>1.000000</td>\n",
       "    </tr>\n",
       "  </tbody>\n",
       "</table>\n",
       "<p>27 rows × 27 columns</p>\n",
       "</div>"
      ],
      "text/plain": [
       "              carat     depth     table     price         x         y  \\\n",
       "carat      1.000000  0.028224  0.181618  0.921591  0.975094  0.951722   \n",
       "depth      0.028224  1.000000 -0.295779 -0.010647 -0.025289 -0.029341   \n",
       "table      0.181618 -0.295779  1.000000  0.127134  0.195344  0.183760   \n",
       "price      0.921591 -0.010647  0.127134  1.000000  0.884435  0.865421   \n",
       "x          0.975094 -0.025289  0.195344  0.884435  1.000000  0.974701   \n",
       "y          0.951722 -0.029341  0.183760  0.865421  0.974701  1.000000   \n",
       "z          0.953387  0.094924  0.150929  0.861249  0.970772  0.952006   \n",
       "Fair       0.091844  0.280657  0.125332  0.018728  0.080644  0.068822   \n",
       "Good       0.034196  0.136114  0.175174 -0.000312  0.030349  0.032187   \n",
       "Ideal     -0.163660 -0.022778 -0.549599 -0.097175 -0.162674 -0.153158   \n",
       "Premium    0.116245 -0.198306  0.338072  0.095706  0.126820  0.107943   \n",
       "Very Good  0.009568  0.025828  0.119971  0.006593  0.004569  0.016699   \n",
       "I1         0.120983  0.081135  0.044716 -0.000255  0.108361  0.100736   \n",
       "IF        -0.114449 -0.030881 -0.078766 -0.049596 -0.125976 -0.120800   \n",
       "SI1        0.062669  0.040899  0.051959  0.008957  0.079241  0.076097   \n",
       "SI2        0.267483  0.007202  0.095344  0.128420  0.270827  0.263252   \n",
       "VS1       -0.063094 -0.024169 -0.026858 -0.009886 -0.059882 -0.056490   \n",
       "VS2       -0.038904 -0.009459 -0.009655 -0.001062 -0.035507 -0.035928   \n",
       "VVS1      -0.167571 -0.023477 -0.069103 -0.095266 -0.185253 -0.179271   \n",
       "VVS2      -0.137024 -0.019243 -0.062273 -0.052381 -0.147151 -0.141624   \n",
       "D         -0.112057 -0.013566 -0.008921 -0.072473 -0.106127 -0.103999   \n",
       "E         -0.139215 -0.028713  0.007172 -0.101089 -0.134213 -0.130136   \n",
       "F         -0.060052 -0.017741 -0.004906 -0.024161 -0.048021 -0.046707   \n",
       "G         -0.029038  0.002768 -0.038815  0.008556 -0.024593 -0.024479   \n",
       "H          0.102465  0.026037  0.011574  0.059223  0.095896  0.093480   \n",
       "I          0.161494  0.022630  0.017967  0.097125  0.146522  0.142895   \n",
       "J          0.180054  0.022543  0.037253  0.081710  0.164658  0.160776   \n",
       "\n",
       "                  z      Fair      Good     Ideal  ...       VS2      VVS1  \\\n",
       "carat      0.953387  0.091844  0.034196 -0.163660  ... -0.038904 -0.167571   \n",
       "depth      0.094924  0.280657  0.136114 -0.022778  ... -0.009459 -0.023477   \n",
       "table      0.150929  0.125332  0.175174 -0.549599  ... -0.009655 -0.069103   \n",
       "price      0.861249  0.018728 -0.000312 -0.097175  ... -0.001062 -0.095266   \n",
       "x          0.970772  0.080644  0.030349 -0.162674  ... -0.035507 -0.185253   \n",
       "y          0.952006  0.068822  0.032187 -0.153158  ... -0.035928 -0.179271   \n",
       "z          1.000000  0.110367  0.045169 -0.158688  ... -0.036314 -0.182401   \n",
       "Fair       0.110367  1.000000 -0.055482 -0.143078  ... -0.027266 -0.039920   \n",
       "Good       0.045169 -0.055482  1.000000 -0.258018  ... -0.021063 -0.037564   \n",
       "Ideal     -0.158688 -0.143078 -0.258018  1.000000  ...  0.015669  0.088354   \n",
       "Premium    0.090019 -0.102801 -0.185385 -0.478074  ...  0.022611 -0.053852   \n",
       "Very Good  0.016039 -0.094236 -0.169940 -0.438243  ... -0.016412 -0.005251   \n",
       "I1         0.111913  0.175852  0.015844 -0.048795  ... -0.064002 -0.031819   \n",
       "IF        -0.125248 -0.027022 -0.033046  0.104986  ... -0.100470 -0.049949   \n",
       "SI1        0.081005  0.004587  0.055938 -0.082865  ... -0.306592 -0.152423   \n",
       "SI2        0.263192  0.055506  0.041970 -0.108242  ... -0.245816 -0.122208   \n",
       "VS1       -0.058513 -0.022453 -0.017116  0.034247  ... -0.229133 -0.113914   \n",
       "VS2       -0.036314 -0.027266 -0.021063  0.015669  ...  1.000000 -0.146204   \n",
       "VVS1      -0.182401 -0.039920 -0.037564  0.088354  ... -0.146204  1.000000   \n",
       "VVS2      -0.144746 -0.030703 -0.038627  0.075508  ... -0.174594 -0.086800   \n",
       "D         -0.105216 -0.012893  0.008909  0.014521  ...  0.021007 -0.046091   \n",
       "E         -0.132210 -0.019334  0.007013 -0.001105  ...  0.027954 -0.001502   \n",
       "F         -0.048803  0.007763  0.006949  0.001351  ...  0.003775  0.016901   \n",
       "G         -0.024582 -0.006171 -0.024729  0.034649  ... -0.023829  0.042398   \n",
       "H          0.095041  0.016646 -0.009517 -0.021264  ... -0.029923  0.004561   \n",
       "I          0.145276  0.004770  0.006187 -0.009225  ... -0.009293 -0.003041   \n",
       "J          0.164217  0.017257  0.014977 -0.038490  ...  0.018496 -0.038608   \n",
       "\n",
       "               VVS2         D         E         F         G         H  \\\n",
       "carat     -0.137024 -0.112057 -0.139215 -0.060052 -0.029038  0.102465   \n",
       "depth     -0.019243 -0.013566 -0.028713 -0.017741  0.002768  0.026037   \n",
       "table     -0.062273 -0.008921  0.007172 -0.004906 -0.038815  0.011574   \n",
       "price     -0.052381 -0.072473 -0.101089 -0.024161  0.008556  0.059223   \n",
       "x         -0.147151 -0.106127 -0.134213 -0.048021 -0.024593  0.095896   \n",
       "y         -0.141624 -0.103999 -0.130136 -0.046707 -0.024479  0.093480   \n",
       "z         -0.144746 -0.105216 -0.132210 -0.048803 -0.024582  0.095041   \n",
       "Fair      -0.030703 -0.012893 -0.019334  0.007763 -0.006171  0.016646   \n",
       "Good      -0.038627  0.008909  0.007013  0.006949 -0.024729 -0.009517   \n",
       "Ideal      0.075508  0.014521 -0.001105  0.001351  0.034649 -0.021264   \n",
       "Premium   -0.061949 -0.016566 -0.018500 -0.012098  0.003859  0.027895   \n",
       "Very Good  0.015284 -0.000608  0.023711  0.003110 -0.025171 -0.004437   \n",
       "I1        -0.037997 -0.024545 -0.013462  0.004974 -0.002006  0.021150   \n",
       "IF        -0.059648 -0.047418 -0.044863  0.018539  0.077917  0.006720   \n",
       "SI1       -0.182020  0.057715  0.005953 -0.020436 -0.080738  0.031613   \n",
       "SI2       -0.145938  0.032017  0.005514 -0.002251 -0.045651  0.020163   \n",
       "VS1       -0.136033 -0.050134 -0.027238 -0.011038  0.055601 -0.012740   \n",
       "VS2       -0.174594  0.021007  0.027954  0.003775 -0.023829 -0.029923   \n",
       "VVS1      -0.086800 -0.046091 -0.001502  0.016901  0.042398  0.004561   \n",
       "VVS2       1.000000 -0.015975  0.011683  0.013128  0.059744 -0.030271   \n",
       "D         -0.015975  1.000000 -0.178550 -0.175704 -0.195021 -0.161672   \n",
       "E          0.011683 -0.178550  1.000000 -0.218401 -0.242411 -0.200958   \n",
       "F          0.013128 -0.175704 -0.218401  1.000000 -0.238547 -0.197755   \n",
       "G          0.059744 -0.195021 -0.242411 -0.238547  1.000000 -0.219496   \n",
       "H         -0.030271 -0.161672 -0.200958 -0.197755 -0.219496  1.000000   \n",
       "I         -0.030483 -0.126699 -0.157487 -0.154977 -0.172014 -0.142600   \n",
       "J         -0.037971 -0.088817 -0.110400 -0.108640 -0.120584 -0.099964   \n",
       "\n",
       "                  I         J  \n",
       "carat      0.161494  0.180054  \n",
       "depth      0.022630  0.022543  \n",
       "table      0.017967  0.037253  \n",
       "price      0.097125  0.081710  \n",
       "x          0.146522  0.164658  \n",
       "y          0.142895  0.160776  \n",
       "z          0.145276  0.164217  \n",
       "Fair       0.004770  0.017257  \n",
       "Good       0.006187  0.014977  \n",
       "Ideal     -0.009225 -0.038490  \n",
       "Premium    0.005899  0.017231  \n",
       "Very Good -0.001549  0.009816  \n",
       "I1         0.009278  0.008192  \n",
       "IF        -0.012711 -0.019654  \n",
       "SI1        0.015934  0.013609  \n",
       "SI2       -0.001996  0.000084  \n",
       "VS1        0.024189  0.027150  \n",
       "VS2       -0.009293  0.018496  \n",
       "VVS1      -0.003041 -0.038608  \n",
       "VVS2      -0.030483 -0.037971  \n",
       "D         -0.126699 -0.088817  \n",
       "E         -0.157487 -0.110400  \n",
       "F         -0.154977 -0.108640  \n",
       "G         -0.172014 -0.120584  \n",
       "H         -0.142600 -0.099964  \n",
       "I          1.000000 -0.078339  \n",
       "J         -0.078339  1.000000  \n",
       "\n",
       "[27 rows x 27 columns]"
      ]
     },
     "execution_count": 47,
     "metadata": {},
     "output_type": "execute_result"
    }
   ],
   "source": [
    "df3.corr()"
   ]
  },
  {
   "cell_type": "code",
   "execution_count": 48,
   "metadata": {},
   "outputs": [
    {
     "data": {
      "text/plain": [
       "4374.25"
      ]
     },
     "execution_count": 48,
     "metadata": {},
     "output_type": "execute_result"
    }
   ],
   "source": [
    "Q1=df3.price.quantile(0.25)\n",
    "Q3=df3.price.quantile(0.75)\n",
    "IQR=Q3-Q1\n",
    "\n",
    "IQR"
   ]
  },
  {
   "cell_type": "code",
   "execution_count": 49,
   "metadata": {},
   "outputs": [],
   "source": [
    "X=df3.drop([\"price\"], axis=\"columns\")\n"
   ]
  },
  {
   "cell_type": "code",
   "execution_count": 50,
   "metadata": {},
   "outputs": [
    {
     "data": {
      "text/plain": [
       "0         326\n",
       "1         326\n",
       "2         327\n",
       "3         334\n",
       "4         335\n",
       "         ... \n",
       "53935    2757\n",
       "53936    2757\n",
       "53937    2757\n",
       "53938    2757\n",
       "53939    2757\n",
       "Name: price, Length: 53940, dtype: int64"
      ]
     },
     "execution_count": 50,
     "metadata": {},
     "output_type": "execute_result"
    }
   ],
   "source": [
    "Y=df3.price\n",
    "Y"
   ]
  },
  {
   "cell_type": "code",
   "execution_count": 51,
   "metadata": {},
   "outputs": [
    {
     "data": {
      "text/plain": [
       "array([[-1.19816781, -0.17409151, -1.09967199, ..., -0.42656958,\n",
       "        -0.33429379, -0.2343431 ],\n",
       "       [-1.24036129, -1.36073849,  1.58552871, ..., -0.42656958,\n",
       "        -0.33429379, -0.2343431 ],\n",
       "       [-1.19816781, -3.38501862,  3.37566251, ..., -0.42656958,\n",
       "        -0.33429379, -0.2343431 ],\n",
       "       ...,\n",
       "       [-0.20662095,  0.73334442,  1.13799526, ..., -0.42656958,\n",
       "        -0.33429379, -0.2343431 ],\n",
       "       [ 0.13092691, -0.52310533,  0.24292836, ...,  2.34428342,\n",
       "        -0.33429379, -0.2343431 ],\n",
       "       [-0.10113725,  0.31452784, -1.09967199, ..., -0.42656958,\n",
       "        -0.33429379, -0.2343431 ]])"
      ]
     },
     "execution_count": 51,
     "metadata": {},
     "output_type": "execute_result"
    }
   ],
   "source": [
    "from sklearn.preprocessing import StandardScaler\n",
    "scale=StandardScaler()\n",
    "scaled_data=scale.fit_transform(X)\n",
    "scaled_data\n"
   ]
  },
  {
   "cell_type": "code",
   "execution_count": 52,
   "metadata": {},
   "outputs": [],
   "source": [
    "from sklearn.model_selection import train_test_split\n",
    "X_train,X_test,Y_train,Y_test=train_test_split(X,Y, test_size=0.2, random_state=10)"
   ]
  },
  {
   "cell_type": "code",
   "execution_count": 53,
   "metadata": {},
   "outputs": [
    {
     "data": {
      "text/plain": [
       "LinearRegression(copy_X=True, fit_intercept=True, n_jobs=None, normalize=False)"
      ]
     },
     "execution_count": 53,
     "metadata": {},
     "output_type": "execute_result"
    }
   ],
   "source": [
    "from sklearn.linear_model import LinearRegression\n",
    "mod=LinearRegression()\n",
    "mod.fit(X_train,Y_train)"
   ]
  },
  {
   "cell_type": "code",
   "execution_count": 54,
   "metadata": {},
   "outputs": [
    {
     "data": {
      "text/plain": [
       "0.920406268171426"
      ]
     },
     "execution_count": 54,
     "metadata": {},
     "output_type": "execute_result"
    }
   ],
   "source": [
    "mod.score(X_test,Y_test)"
   ]
  },
  {
   "cell_type": "code",
   "execution_count": null,
   "metadata": {},
   "outputs": [],
   "source": []
  },
  {
   "cell_type": "code",
   "execution_count": null,
   "metadata": {},
   "outputs": [],
   "source": []
  }
 ],
 "metadata": {
  "kernelspec": {
   "display_name": "Python 3",
   "language": "python",
   "name": "python3"
  },
  "language_info": {
   "codemirror_mode": {
    "name": "ipython",
    "version": 3
   },
   "file_extension": ".py",
   "mimetype": "text/x-python",
   "name": "python",
   "nbconvert_exporter": "python",
   "pygments_lexer": "ipython3",
   "version": "3.7.6"
  }
 },
 "nbformat": 4,
 "nbformat_minor": 4
}
